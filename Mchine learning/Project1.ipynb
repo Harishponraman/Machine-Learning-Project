{
 "cells": [
  {
   "cell_type": "markdown",
   "id": "bde558ed-1270-4262-9142-f34c9a50d834",
   "metadata": {},
   "source": [
    "# CAFE SALES DATASET"
   ]
  },
  {
   "cell_type": "markdown",
   "id": "f58e9ef4-c47b-4440-a250-c66fc6b3a717",
   "metadata": {},
   "source": [
    "# Introduction\n",
    "This dataset captures 10,000 individual retail transactions, offering a rich snapshot of customer purchasing behavior across various food and beverage items.\n",
    "Each row represents a unique transaction, with detailed attributes that enable both descriptive and inferential analysis."
   ]
  },
  {
   "attachments": {},
   "cell_type": "markdown",
   "id": "31422ffe-2b72-43f2-9784-ff3723952886",
   "metadata": {},
   "source": [
    "# Read Data if it is csv\n",
    "- Readind data using pandas is commonly done with the read_function.\n",
    "- Here are the most frequently used method to read data into a pandas Dataframe.\n",
    "- Reading csv file as pd.read_csv('filename.csv')"
   ]
  },
  {
   "cell_type": "code",
   "execution_count": 2,
   "id": "5369838d-5ca5-4e7f-9f8d-4ae44dd9695b",
   "metadata": {},
   "outputs": [
    {
     "data": {
      "text/html": [
       "<div>\n",
       "<style scoped>\n",
       "    .dataframe tbody tr th:only-of-type {\n",
       "        vertical-align: middle;\n",
       "    }\n",
       "\n",
       "    .dataframe tbody tr th {\n",
       "        vertical-align: top;\n",
       "    }\n",
       "\n",
       "    .dataframe thead th {\n",
       "        text-align: right;\n",
       "    }\n",
       "</style>\n",
       "<table border=\"1\" class=\"dataframe\">\n",
       "  <thead>\n",
       "    <tr style=\"text-align: right;\">\n",
       "      <th></th>\n",
       "      <th>Transaction ID</th>\n",
       "      <th>Item</th>\n",
       "      <th>Quantity</th>\n",
       "      <th>Price Per Unit</th>\n",
       "      <th>Total Spent</th>\n",
       "      <th>Payment Method</th>\n",
       "      <th>Location</th>\n",
       "      <th>Transaction Date</th>\n",
       "    </tr>\n",
       "  </thead>\n",
       "  <tbody>\n",
       "    <tr>\n",
       "      <th>0</th>\n",
       "      <td>TXN_1961373</td>\n",
       "      <td>Coffee</td>\n",
       "      <td>2</td>\n",
       "      <td>2.0</td>\n",
       "      <td>4.0</td>\n",
       "      <td>Credit Card</td>\n",
       "      <td>Takeaway</td>\n",
       "      <td>2023-09-08</td>\n",
       "    </tr>\n",
       "    <tr>\n",
       "      <th>1</th>\n",
       "      <td>TXN_4977031</td>\n",
       "      <td>Cake</td>\n",
       "      <td>4</td>\n",
       "      <td>3.0</td>\n",
       "      <td>12.0</td>\n",
       "      <td>Cash</td>\n",
       "      <td>In-store</td>\n",
       "      <td>2023-05-16</td>\n",
       "    </tr>\n",
       "    <tr>\n",
       "      <th>2</th>\n",
       "      <td>TXN_4271903</td>\n",
       "      <td>Cookie</td>\n",
       "      <td>4</td>\n",
       "      <td>1.0</td>\n",
       "      <td>ERROR</td>\n",
       "      <td>Credit Card</td>\n",
       "      <td>In-store</td>\n",
       "      <td>2023-07-19</td>\n",
       "    </tr>\n",
       "    <tr>\n",
       "      <th>3</th>\n",
       "      <td>TXN_7034554</td>\n",
       "      <td>Salad</td>\n",
       "      <td>2</td>\n",
       "      <td>5.0</td>\n",
       "      <td>10.0</td>\n",
       "      <td>UNKNOWN</td>\n",
       "      <td>UNKNOWN</td>\n",
       "      <td>2023-04-27</td>\n",
       "    </tr>\n",
       "    <tr>\n",
       "      <th>4</th>\n",
       "      <td>TXN_3160411</td>\n",
       "      <td>Coffee</td>\n",
       "      <td>2</td>\n",
       "      <td>2.0</td>\n",
       "      <td>4.0</td>\n",
       "      <td>Digital Wallet</td>\n",
       "      <td>In-store</td>\n",
       "      <td>2023-06-11</td>\n",
       "    </tr>\n",
       "    <tr>\n",
       "      <th>...</th>\n",
       "      <td>...</td>\n",
       "      <td>...</td>\n",
       "      <td>...</td>\n",
       "      <td>...</td>\n",
       "      <td>...</td>\n",
       "      <td>...</td>\n",
       "      <td>...</td>\n",
       "      <td>...</td>\n",
       "    </tr>\n",
       "    <tr>\n",
       "      <th>9995</th>\n",
       "      <td>TXN_7672686</td>\n",
       "      <td>Coffee</td>\n",
       "      <td>2</td>\n",
       "      <td>2.0</td>\n",
       "      <td>4.0</td>\n",
       "      <td>NaN</td>\n",
       "      <td>UNKNOWN</td>\n",
       "      <td>2023-08-30</td>\n",
       "    </tr>\n",
       "    <tr>\n",
       "      <th>9996</th>\n",
       "      <td>TXN_9659401</td>\n",
       "      <td>NaN</td>\n",
       "      <td>3</td>\n",
       "      <td>NaN</td>\n",
       "      <td>3.0</td>\n",
       "      <td>Digital Wallet</td>\n",
       "      <td>NaN</td>\n",
       "      <td>2023-06-02</td>\n",
       "    </tr>\n",
       "    <tr>\n",
       "      <th>9997</th>\n",
       "      <td>TXN_5255387</td>\n",
       "      <td>Coffee</td>\n",
       "      <td>4</td>\n",
       "      <td>2.0</td>\n",
       "      <td>8.0</td>\n",
       "      <td>Digital Wallet</td>\n",
       "      <td>NaN</td>\n",
       "      <td>2023-03-02</td>\n",
       "    </tr>\n",
       "    <tr>\n",
       "      <th>9998</th>\n",
       "      <td>TXN_7695629</td>\n",
       "      <td>Cookie</td>\n",
       "      <td>3</td>\n",
       "      <td>NaN</td>\n",
       "      <td>3.0</td>\n",
       "      <td>Digital Wallet</td>\n",
       "      <td>NaN</td>\n",
       "      <td>2023-12-02</td>\n",
       "    </tr>\n",
       "    <tr>\n",
       "      <th>9999</th>\n",
       "      <td>TXN_6170729</td>\n",
       "      <td>Sandwich</td>\n",
       "      <td>3</td>\n",
       "      <td>4.0</td>\n",
       "      <td>12.0</td>\n",
       "      <td>Cash</td>\n",
       "      <td>In-store</td>\n",
       "      <td>2023-11-07</td>\n",
       "    </tr>\n",
       "  </tbody>\n",
       "</table>\n",
       "<p>10000 rows × 8 columns</p>\n",
       "</div>"
      ],
      "text/plain": [
       "     Transaction ID      Item Quantity Price Per Unit Total Spent  \\\n",
       "0       TXN_1961373    Coffee        2            2.0         4.0   \n",
       "1       TXN_4977031      Cake        4            3.0        12.0   \n",
       "2       TXN_4271903    Cookie        4            1.0       ERROR   \n",
       "3       TXN_7034554     Salad        2            5.0        10.0   \n",
       "4       TXN_3160411    Coffee        2            2.0         4.0   \n",
       "...             ...       ...      ...            ...         ...   \n",
       "9995    TXN_7672686    Coffee        2            2.0         4.0   \n",
       "9996    TXN_9659401       NaN        3            NaN         3.0   \n",
       "9997    TXN_5255387    Coffee        4            2.0         8.0   \n",
       "9998    TXN_7695629    Cookie        3            NaN         3.0   \n",
       "9999    TXN_6170729  Sandwich        3            4.0        12.0   \n",
       "\n",
       "      Payment Method  Location Transaction Date  \n",
       "0        Credit Card  Takeaway       2023-09-08  \n",
       "1               Cash  In-store       2023-05-16  \n",
       "2        Credit Card  In-store       2023-07-19  \n",
       "3            UNKNOWN   UNKNOWN       2023-04-27  \n",
       "4     Digital Wallet  In-store       2023-06-11  \n",
       "...              ...       ...              ...  \n",
       "9995             NaN   UNKNOWN       2023-08-30  \n",
       "9996  Digital Wallet       NaN       2023-06-02  \n",
       "9997  Digital Wallet       NaN       2023-03-02  \n",
       "9998  Digital Wallet       NaN       2023-12-02  \n",
       "9999            Cash  In-store       2023-11-07  \n",
       "\n",
       "[10000 rows x 8 columns]"
      ]
     },
     "execution_count": 2,
     "metadata": {},
     "output_type": "execute_result"
    }
   ],
   "source": [
    "import pandas as pd\n",
    "df=pd.read_csv(\"Dirty_Cafe1.csv\")\n",
    "df"
   ]
  },
  {
   "cell_type": "markdown",
   "id": "709acbbb-18be-4ae5-80a0-e20a403af7bd",
   "metadata": {},
   "source": [
    "# Summary of the Data"
   ]
  },
  {
   "cell_type": "code",
   "execution_count": 3,
   "id": "6c323f5c-3d52-4eb7-8916-471e3f7b7b2e",
   "metadata": {},
   "outputs": [
    {
     "name": "stdout",
     "output_type": "stream",
     "text": [
      "<class 'pandas.core.frame.DataFrame'>\n",
      "RangeIndex: 10000 entries, 0 to 9999\n",
      "Data columns (total 8 columns):\n",
      " #   Column            Non-Null Count  Dtype \n",
      "---  ------            --------------  ----- \n",
      " 0   Transaction ID    10000 non-null  object\n",
      " 1   Item              9667 non-null   object\n",
      " 2   Quantity          9862 non-null   object\n",
      " 3   Price Per Unit    9821 non-null   object\n",
      " 4   Total Spent       9827 non-null   object\n",
      " 5   Payment Method    7421 non-null   object\n",
      " 6   Location          6735 non-null   object\n",
      " 7   Transaction Date  9841 non-null   object\n",
      "dtypes: object(8)\n",
      "memory usage: 625.1+ KB\n"
     ]
    }
   ],
   "source": [
    "df.info()"
   ]
  },
  {
   "cell_type": "markdown",
   "id": "4d558a04-cdf4-4a79-98d6-72e779358b4c",
   "metadata": {},
   "source": [
    "# Descriptive Statistics"
   ]
  },
  {
   "cell_type": "code",
   "execution_count": 4,
   "id": "f3c47b7b-6db3-47a2-b02d-cab2634671eb",
   "metadata": {},
   "outputs": [
    {
     "data": {
      "text/html": [
       "<div>\n",
       "<style scoped>\n",
       "    .dataframe tbody tr th:only-of-type {\n",
       "        vertical-align: middle;\n",
       "    }\n",
       "\n",
       "    .dataframe tbody tr th {\n",
       "        vertical-align: top;\n",
       "    }\n",
       "\n",
       "    .dataframe thead th {\n",
       "        text-align: right;\n",
       "    }\n",
       "</style>\n",
       "<table border=\"1\" class=\"dataframe\">\n",
       "  <thead>\n",
       "    <tr style=\"text-align: right;\">\n",
       "      <th></th>\n",
       "      <th>Transaction ID</th>\n",
       "      <th>Item</th>\n",
       "      <th>Quantity</th>\n",
       "      <th>Price Per Unit</th>\n",
       "      <th>Total Spent</th>\n",
       "      <th>Payment Method</th>\n",
       "      <th>Location</th>\n",
       "      <th>Transaction Date</th>\n",
       "    </tr>\n",
       "  </thead>\n",
       "  <tbody>\n",
       "    <tr>\n",
       "      <th>count</th>\n",
       "      <td>10000</td>\n",
       "      <td>9667</td>\n",
       "      <td>9862</td>\n",
       "      <td>9821</td>\n",
       "      <td>9827</td>\n",
       "      <td>7421</td>\n",
       "      <td>6735</td>\n",
       "      <td>9841</td>\n",
       "    </tr>\n",
       "    <tr>\n",
       "      <th>unique</th>\n",
       "      <td>10000</td>\n",
       "      <td>10</td>\n",
       "      <td>7</td>\n",
       "      <td>8</td>\n",
       "      <td>19</td>\n",
       "      <td>5</td>\n",
       "      <td>4</td>\n",
       "      <td>367</td>\n",
       "    </tr>\n",
       "    <tr>\n",
       "      <th>top</th>\n",
       "      <td>TXN_9226047</td>\n",
       "      <td>Juice</td>\n",
       "      <td>5</td>\n",
       "      <td>3.0</td>\n",
       "      <td>6.0</td>\n",
       "      <td>Digital Wallet</td>\n",
       "      <td>Takeaway</td>\n",
       "      <td>UNKNOWN</td>\n",
       "    </tr>\n",
       "    <tr>\n",
       "      <th>freq</th>\n",
       "      <td>1</td>\n",
       "      <td>1171</td>\n",
       "      <td>2013</td>\n",
       "      <td>2429</td>\n",
       "      <td>979</td>\n",
       "      <td>2291</td>\n",
       "      <td>3022</td>\n",
       "      <td>159</td>\n",
       "    </tr>\n",
       "  </tbody>\n",
       "</table>\n",
       "</div>"
      ],
      "text/plain": [
       "       Transaction ID   Item Quantity Price Per Unit Total Spent  \\\n",
       "count           10000   9667     9862           9821        9827   \n",
       "unique          10000     10        7              8          19   \n",
       "top       TXN_9226047  Juice        5            3.0         6.0   \n",
       "freq                1   1171     2013           2429         979   \n",
       "\n",
       "        Payment Method  Location Transaction Date  \n",
       "count             7421      6735             9841  \n",
       "unique               5         4              367  \n",
       "top     Digital Wallet  Takeaway          UNKNOWN  \n",
       "freq              2291      3022              159  "
      ]
     },
     "execution_count": 4,
     "metadata": {},
     "output_type": "execute_result"
    }
   ],
   "source": [
    "df.describe()"
   ]
  },
  {
   "cell_type": "markdown",
   "id": "042b4716-9565-4b86-9e0a-7d217dde916b",
   "metadata": {},
   "source": [
    "# Finding the Data Type"
   ]
  },
  {
   "cell_type": "code",
   "execution_count": 5,
   "id": "07e16ea7-b984-4efe-ac1e-1e07ccdbe4b9",
   "metadata": {},
   "outputs": [
    {
     "data": {
      "text/plain": [
       "Transaction ID      object\n",
       "Item                object\n",
       "Quantity            object\n",
       "Price Per Unit      object\n",
       "Total Spent         object\n",
       "Payment Method      object\n",
       "Location            object\n",
       "Transaction Date    object\n",
       "dtype: object"
      ]
     },
     "execution_count": 5,
     "metadata": {},
     "output_type": "execute_result"
    }
   ],
   "source": [
    "df.dtypes"
   ]
  },
  {
   "cell_type": "markdown",
   "id": "e6721ba5-d2a1-4831-9bdd-be99dd59453c",
   "metadata": {},
   "source": [
    "# Converting Object into Numeric"
   ]
  },
  {
   "cell_type": "code",
   "execution_count": 6,
   "id": "e08051f6-29a4-4764-8e14-9eb594bc46e2",
   "metadata": {},
   "outputs": [],
   "source": [
    "df['Quantity']=pd.to_numeric(df['Quantity'],errors='coerce')"
   ]
  },
  {
   "cell_type": "code",
   "execution_count": 7,
   "id": "ab6ccd49-cf00-4f68-b8f2-d8eed17434df",
   "metadata": {},
   "outputs": [
    {
     "data": {
      "text/html": [
       "<div>\n",
       "<style scoped>\n",
       "    .dataframe tbody tr th:only-of-type {\n",
       "        vertical-align: middle;\n",
       "    }\n",
       "\n",
       "    .dataframe tbody tr th {\n",
       "        vertical-align: top;\n",
       "    }\n",
       "\n",
       "    .dataframe thead th {\n",
       "        text-align: right;\n",
       "    }\n",
       "</style>\n",
       "<table border=\"1\" class=\"dataframe\">\n",
       "  <thead>\n",
       "    <tr style=\"text-align: right;\">\n",
       "      <th></th>\n",
       "      <th>Quantity</th>\n",
       "    </tr>\n",
       "  </thead>\n",
       "  <tbody>\n",
       "    <tr>\n",
       "      <th>count</th>\n",
       "      <td>9521.000000</td>\n",
       "    </tr>\n",
       "    <tr>\n",
       "      <th>mean</th>\n",
       "      <td>3.028463</td>\n",
       "    </tr>\n",
       "    <tr>\n",
       "      <th>std</th>\n",
       "      <td>1.419007</td>\n",
       "    </tr>\n",
       "    <tr>\n",
       "      <th>min</th>\n",
       "      <td>1.000000</td>\n",
       "    </tr>\n",
       "    <tr>\n",
       "      <th>25%</th>\n",
       "      <td>2.000000</td>\n",
       "    </tr>\n",
       "    <tr>\n",
       "      <th>50%</th>\n",
       "      <td>3.000000</td>\n",
       "    </tr>\n",
       "    <tr>\n",
       "      <th>75%</th>\n",
       "      <td>4.000000</td>\n",
       "    </tr>\n",
       "    <tr>\n",
       "      <th>max</th>\n",
       "      <td>5.000000</td>\n",
       "    </tr>\n",
       "  </tbody>\n",
       "</table>\n",
       "</div>"
      ],
      "text/plain": [
       "          Quantity\n",
       "count  9521.000000\n",
       "mean      3.028463\n",
       "std       1.419007\n",
       "min       1.000000\n",
       "25%       2.000000\n",
       "50%       3.000000\n",
       "75%       4.000000\n",
       "max       5.000000"
      ]
     },
     "execution_count": 7,
     "metadata": {},
     "output_type": "execute_result"
    }
   ],
   "source": [
    "df.describe()"
   ]
  },
  {
   "cell_type": "code",
   "execution_count": 8,
   "id": "bc7ac17e-30ad-4adf-8b09-9c472c386bcd",
   "metadata": {},
   "outputs": [],
   "source": [
    "df['Price Per Unit']=pd.to_numeric(df['Price Per Unit'],errors='coerce')\n",
    "df['Total Spent']=pd.to_numeric(df['Total Spent'],errors='coerce')\n"
   ]
  },
  {
   "cell_type": "code",
   "execution_count": 9,
   "id": "d2c63167-7539-4ba3-a972-91cc6ad271b2",
   "metadata": {},
   "outputs": [
    {
     "data": {
      "text/html": [
       "<div>\n",
       "<style scoped>\n",
       "    .dataframe tbody tr th:only-of-type {\n",
       "        vertical-align: middle;\n",
       "    }\n",
       "\n",
       "    .dataframe tbody tr th {\n",
       "        vertical-align: top;\n",
       "    }\n",
       "\n",
       "    .dataframe thead th {\n",
       "        text-align: right;\n",
       "    }\n",
       "</style>\n",
       "<table border=\"1\" class=\"dataframe\">\n",
       "  <thead>\n",
       "    <tr style=\"text-align: right;\">\n",
       "      <th></th>\n",
       "      <th>Quantity</th>\n",
       "      <th>Price Per Unit</th>\n",
       "      <th>Total Spent</th>\n",
       "    </tr>\n",
       "  </thead>\n",
       "  <tbody>\n",
       "    <tr>\n",
       "      <th>count</th>\n",
       "      <td>9521.000000</td>\n",
       "      <td>9467.000000</td>\n",
       "      <td>9498.000000</td>\n",
       "    </tr>\n",
       "    <tr>\n",
       "      <th>mean</th>\n",
       "      <td>3.028463</td>\n",
       "      <td>2.949984</td>\n",
       "      <td>8.924352</td>\n",
       "    </tr>\n",
       "    <tr>\n",
       "      <th>std</th>\n",
       "      <td>1.419007</td>\n",
       "      <td>1.278450</td>\n",
       "      <td>6.009919</td>\n",
       "    </tr>\n",
       "    <tr>\n",
       "      <th>min</th>\n",
       "      <td>1.000000</td>\n",
       "      <td>1.000000</td>\n",
       "      <td>1.000000</td>\n",
       "    </tr>\n",
       "    <tr>\n",
       "      <th>25%</th>\n",
       "      <td>2.000000</td>\n",
       "      <td>2.000000</td>\n",
       "      <td>4.000000</td>\n",
       "    </tr>\n",
       "    <tr>\n",
       "      <th>50%</th>\n",
       "      <td>3.000000</td>\n",
       "      <td>3.000000</td>\n",
       "      <td>8.000000</td>\n",
       "    </tr>\n",
       "    <tr>\n",
       "      <th>75%</th>\n",
       "      <td>4.000000</td>\n",
       "      <td>4.000000</td>\n",
       "      <td>12.000000</td>\n",
       "    </tr>\n",
       "    <tr>\n",
       "      <th>max</th>\n",
       "      <td>5.000000</td>\n",
       "      <td>5.000000</td>\n",
       "      <td>25.000000</td>\n",
       "    </tr>\n",
       "  </tbody>\n",
       "</table>\n",
       "</div>"
      ],
      "text/plain": [
       "          Quantity  Price Per Unit  Total Spent\n",
       "count  9521.000000     9467.000000  9498.000000\n",
       "mean      3.028463        2.949984     8.924352\n",
       "std       1.419007        1.278450     6.009919\n",
       "min       1.000000        1.000000     1.000000\n",
       "25%       2.000000        2.000000     4.000000\n",
       "50%       3.000000        3.000000     8.000000\n",
       "75%       4.000000        4.000000    12.000000\n",
       "max       5.000000        5.000000    25.000000"
      ]
     },
     "execution_count": 9,
     "metadata": {},
     "output_type": "execute_result"
    }
   ],
   "source": [
    "df.describe()"
   ]
  },
  {
   "cell_type": "code",
   "execution_count": 10,
   "id": "925acce5-05cf-43a6-bfdb-eddc6dc8a6ba",
   "metadata": {},
   "outputs": [
    {
     "name": "stdout",
     "output_type": "stream",
     "text": [
      "<class 'pandas.core.frame.DataFrame'>\n",
      "RangeIndex: 10000 entries, 0 to 9999\n",
      "Data columns (total 8 columns):\n",
      " #   Column            Non-Null Count  Dtype  \n",
      "---  ------            --------------  -----  \n",
      " 0   Transaction ID    10000 non-null  object \n",
      " 1   Item              9667 non-null   object \n",
      " 2   Quantity          9521 non-null   float64\n",
      " 3   Price Per Unit    9467 non-null   float64\n",
      " 4   Total Spent       9498 non-null   float64\n",
      " 5   Payment Method    7421 non-null   object \n",
      " 6   Location          6735 non-null   object \n",
      " 7   Transaction Date  9841 non-null   object \n",
      "dtypes: float64(3), object(5)\n",
      "memory usage: 625.1+ KB\n"
     ]
    }
   ],
   "source": [
    "df.info()"
   ]
  },
  {
   "cell_type": "markdown",
   "id": "5873e0ec-2b8b-4dce-a85e-5c170909eb83",
   "metadata": {},
   "source": [
    "## Checking the null values in Dataset"
   ]
  },
  {
   "cell_type": "code",
   "execution_count": 11,
   "id": "7866087b-13bf-4d36-b584-d12cdba1734f",
   "metadata": {},
   "outputs": [
    {
     "data": {
      "text/plain": [
       "Transaction ID         0\n",
       "Item                 333\n",
       "Quantity             479\n",
       "Price Per Unit       533\n",
       "Total Spent          502\n",
       "Payment Method      2579\n",
       "Location            3265\n",
       "Transaction Date     159\n",
       "dtype: int64"
      ]
     },
     "execution_count": 11,
     "metadata": {},
     "output_type": "execute_result"
    }
   ],
   "source": [
    "df.isnull().sum()"
   ]
  },
  {
   "cell_type": "code",
   "execution_count": 12,
   "id": "dec4e2e5-baba-47fc-8989-39d3becaba03",
   "metadata": {},
   "outputs": [
    {
     "data": {
      "text/plain": [
       "np.int64(7850)"
      ]
     },
     "execution_count": 12,
     "metadata": {},
     "output_type": "execute_result"
    }
   ],
   "source": [
    "df.isnull().sum().sum()"
   ]
  },
  {
   "cell_type": "markdown",
   "id": "732efb17-d996-42e4-8166-c5f05705d43e",
   "metadata": {},
   "source": [
    "## import numpy to numeric condition"
   ]
  },
  {
   "cell_type": "code",
   "execution_count": 13,
   "id": "6594beac-8e35-44ea-b314-eeef91cfd0cb",
   "metadata": {},
   "outputs": [
    {
     "data": {
      "text/plain": [
       "Quantity          3.028463\n",
       "Price Per Unit    2.949984\n",
       "Total Spent       8.924352\n",
       "dtype: float64"
      ]
     },
     "execution_count": 13,
     "metadata": {},
     "output_type": "execute_result"
    }
   ],
   "source": [
    "import numpy as np\n",
    "import datetime as dt\n",
    "np.mean(df[['Quantity','Price Per Unit','Total Spent']],axis=0)"
   ]
  },
  {
   "cell_type": "markdown",
   "id": "2f07d1cd-bb51-4852-8601-0d8b8b523d23",
   "metadata": {},
   "source": [
    "## check the mean values in column index"
   ]
  },
  {
   "cell_type": "code",
   "execution_count": 14,
   "id": "028076f6-2d8d-4b59-afd6-5d0350c8b266",
   "metadata": {},
   "outputs": [
    {
     "data": {
      "text/plain": [
       "Quantity          3.028463\n",
       "Price Per Unit    2.949984\n",
       "Total Spent       8.924352\n",
       "dtype: float64"
      ]
     },
     "execution_count": 14,
     "metadata": {},
     "output_type": "execute_result"
    }
   ],
   "source": [
    "df[['Quantity','Price Per Unit','Total Spent']].mean()"
   ]
  },
  {
   "cell_type": "markdown",
   "id": "7ffae499-b238-4237-81a2-bcc3870db3dc",
   "metadata": {},
   "source": [
    "## using fillna to fill the null value"
   ]
  },
  {
   "cell_type": "code",
   "execution_count": 15,
   "id": "74ae49bb-f067-4e07-ae64-09adee610bc3",
   "metadata": {},
   "outputs": [
    {
     "name": "stderr",
     "output_type": "stream",
     "text": [
      "C:\\Users\\haris\\AppData\\Local\\Temp\\ipykernel_10848\\3435265887.py:1: FutureWarning: A value is trying to be set on a copy of a DataFrame or Series through chained assignment using an inplace method.\n",
      "The behavior will change in pandas 3.0. This inplace method will never work because the intermediate object on which we are setting values always behaves as a copy.\n",
      "\n",
      "For example, when doing 'df[col].method(value, inplace=True)', try using 'df.method({col: value}, inplace=True)' or df[col] = df[col].method(value) instead, to perform the operation inplace on the original object.\n",
      "\n",
      "\n",
      "  df['Quantity'].fillna(df['Quantity'].mean(),inplace=True)\n",
      "C:\\Users\\haris\\AppData\\Local\\Temp\\ipykernel_10848\\3435265887.py:2: FutureWarning: A value is trying to be set on a copy of a DataFrame or Series through chained assignment using an inplace method.\n",
      "The behavior will change in pandas 3.0. This inplace method will never work because the intermediate object on which we are setting values always behaves as a copy.\n",
      "\n",
      "For example, when doing 'df[col].method(value, inplace=True)', try using 'df.method({col: value}, inplace=True)' or df[col] = df[col].method(value) instead, to perform the operation inplace on the original object.\n",
      "\n",
      "\n",
      "  df['Price Per Unit'].fillna(df['Price Per Unit'].mean(),inplace=True)\n",
      "C:\\Users\\haris\\AppData\\Local\\Temp\\ipykernel_10848\\3435265887.py:3: FutureWarning: A value is trying to be set on a copy of a DataFrame or Series through chained assignment using an inplace method.\n",
      "The behavior will change in pandas 3.0. This inplace method will never work because the intermediate object on which we are setting values always behaves as a copy.\n",
      "\n",
      "For example, when doing 'df[col].method(value, inplace=True)', try using 'df.method({col: value}, inplace=True)' or df[col] = df[col].method(value) instead, to perform the operation inplace on the original object.\n",
      "\n",
      "\n",
      "  df['Total Spent'].fillna(df['Total Spent'].mean(),inplace=True)\n"
     ]
    }
   ],
   "source": [
    " df['Quantity'].fillna(df['Quantity'].mean(),inplace=True)\n",
    "df['Price Per Unit'].fillna(df['Price Per Unit'].mean(),inplace=True)\n",
    "df['Total Spent'].fillna(df['Total Spent'].mean(),inplace=True)"
   ]
  },
  {
   "cell_type": "code",
   "execution_count": 16,
   "id": "baa8a9bf-1997-410a-953c-0bbf979d3a38",
   "metadata": {},
   "outputs": [
    {
     "data": {
      "text/plain": [
       "Transaction ID         0\n",
       "Item                 333\n",
       "Quantity               0\n",
       "Price Per Unit         0\n",
       "Total Spent            0\n",
       "Payment Method      2579\n",
       "Location            3265\n",
       "Transaction Date     159\n",
       "dtype: int64"
      ]
     },
     "execution_count": 16,
     "metadata": {},
     "output_type": "execute_result"
    }
   ],
   "source": [
    "df.isnull().sum()"
   ]
  },
  {
   "cell_type": "code",
   "execution_count": 17,
   "id": "02306437-8212-455a-a2ab-3af3ef410f3c",
   "metadata": {},
   "outputs": [
    {
     "data": {
      "text/html": [
       "<div>\n",
       "<style scoped>\n",
       "    .dataframe tbody tr th:only-of-type {\n",
       "        vertical-align: middle;\n",
       "    }\n",
       "\n",
       "    .dataframe tbody tr th {\n",
       "        vertical-align: top;\n",
       "    }\n",
       "\n",
       "    .dataframe thead th {\n",
       "        text-align: right;\n",
       "    }\n",
       "</style>\n",
       "<table border=\"1\" class=\"dataframe\">\n",
       "  <thead>\n",
       "    <tr style=\"text-align: right;\">\n",
       "      <th></th>\n",
       "      <th>Item</th>\n",
       "      <th>Payment Method</th>\n",
       "      <th>Location</th>\n",
       "      <th>Transaction Date</th>\n",
       "    </tr>\n",
       "  </thead>\n",
       "  <tbody>\n",
       "    <tr>\n",
       "      <th>0</th>\n",
       "      <td>Juice</td>\n",
       "      <td>Digital Wallet</td>\n",
       "      <td>Takeaway</td>\n",
       "      <td>UNKNOWN</td>\n",
       "    </tr>\n",
       "  </tbody>\n",
       "</table>\n",
       "</div>"
      ],
      "text/plain": [
       "    Item  Payment Method  Location Transaction Date\n",
       "0  Juice  Digital Wallet  Takeaway          UNKNOWN"
      ]
     },
     "execution_count": 17,
     "metadata": {},
     "output_type": "execute_result"
    }
   ],
   "source": [
    "df[['Item','Payment Method','Location','Transaction Date']].mode()"
   ]
  },
  {
   "cell_type": "code",
   "execution_count": 18,
   "id": "866b5f99-b43b-414b-a5f9-8cc0b2ac4aca",
   "metadata": {},
   "outputs": [
    {
     "name": "stderr",
     "output_type": "stream",
     "text": [
      "C:\\Users\\haris\\AppData\\Local\\Temp\\ipykernel_10848\\1712478151.py:1: FutureWarning: A value is trying to be set on a copy of a DataFrame or Series through chained assignment using an inplace method.\n",
      "The behavior will change in pandas 3.0. This inplace method will never work because the intermediate object on which we are setting values always behaves as a copy.\n",
      "\n",
      "For example, when doing 'df[col].method(value, inplace=True)', try using 'df.method({col: value}, inplace=True)' or df[col] = df[col].method(value) instead, to perform the operation inplace on the original object.\n",
      "\n",
      "\n",
      "  df['Item'].fillna(df['Item'].mode()[0],inplace=True)\n",
      "C:\\Users\\haris\\AppData\\Local\\Temp\\ipykernel_10848\\1712478151.py:2: FutureWarning: A value is trying to be set on a copy of a DataFrame or Series through chained assignment using an inplace method.\n",
      "The behavior will change in pandas 3.0. This inplace method will never work because the intermediate object on which we are setting values always behaves as a copy.\n",
      "\n",
      "For example, when doing 'df[col].method(value, inplace=True)', try using 'df.method({col: value}, inplace=True)' or df[col] = df[col].method(value) instead, to perform the operation inplace on the original object.\n",
      "\n",
      "\n",
      "  df['Payment Method'].fillna(df['Payment Method'].mode()[0],inplace=True)\n",
      "C:\\Users\\haris\\AppData\\Local\\Temp\\ipykernel_10848\\1712478151.py:3: FutureWarning: A value is trying to be set on a copy of a DataFrame or Series through chained assignment using an inplace method.\n",
      "The behavior will change in pandas 3.0. This inplace method will never work because the intermediate object on which we are setting values always behaves as a copy.\n",
      "\n",
      "For example, when doing 'df[col].method(value, inplace=True)', try using 'df.method({col: value}, inplace=True)' or df[col] = df[col].method(value) instead, to perform the operation inplace on the original object.\n",
      "\n",
      "\n",
      "  df['Location'].fillna(df['Location'].mode()[0],inplace=True)\n"
     ]
    }
   ],
   "source": [
    "df['Item'].fillna(df['Item'].mode()[0],inplace=True)\n",
    "df['Payment Method'].fillna(df['Payment Method'].mode()[0],inplace=True)\n",
    "df['Location'].fillna(df['Location'].mode()[0],inplace=True)"
   ]
  },
  {
   "cell_type": "code",
   "execution_count": 19,
   "id": "ef2b8db6-0840-4bd6-8f45-72df8c74a968",
   "metadata": {},
   "outputs": [
    {
     "data": {
      "text/plain": [
       "Transaction ID        0\n",
       "Item                  0\n",
       "Quantity              0\n",
       "Price Per Unit        0\n",
       "Total Spent           0\n",
       "Payment Method        0\n",
       "Location              0\n",
       "Transaction Date    159\n",
       "dtype: int64"
      ]
     },
     "execution_count": 19,
     "metadata": {},
     "output_type": "execute_result"
    }
   ],
   "source": [
    "df.isnull().sum()"
   ]
  },
  {
   "cell_type": "markdown",
   "id": "af35bb68-0569-4533-b306-7cfb1018df2f",
   "metadata": {},
   "source": [
    "#  Replace 'ERROR' and 'UNKNOWN' with NaN"
   ]
  },
  {
   "cell_type": "code",
   "execution_count": 20,
   "id": "cfe70415-0d17-4aa0-b403-5dcb408bc773",
   "metadata": {},
   "outputs": [
    {
     "name": "stderr",
     "output_type": "stream",
     "text": [
      "C:\\Users\\haris\\AppData\\Local\\Temp\\ipykernel_10848\\2943403895.py:3: FutureWarning: Series.fillna with 'method' is deprecated and will raise in a future version. Use obj.ffill() or obj.bfill() instead.\n",
      "  df['Transaction Date'] = df['Transaction Date'].fillna(method='ffill')\n"
     ]
    }
   ],
   "source": [
    "\n",
    "df['Transaction Date'] = df['Transaction Date'].replace(['ERROR', 'UNKNOWN'], np.nan)\n",
    "# Forward fill (uses previous valid date)\n",
    "df['Transaction Date'] = df['Transaction Date'].fillna(method='ffill')\n",
    "df['Transaction Date'] = pd.to_datetime(df['Transaction Date'])"
   ]
  },
  {
   "cell_type": "code",
   "execution_count": 21,
   "id": "7c134daa-6b17-4750-9e1a-68c5e0af5e45",
   "metadata": {},
   "outputs": [
    {
     "data": {
      "text/html": [
       "<div>\n",
       "<style scoped>\n",
       "    .dataframe tbody tr th:only-of-type {\n",
       "        vertical-align: middle;\n",
       "    }\n",
       "\n",
       "    .dataframe tbody tr th {\n",
       "        vertical-align: top;\n",
       "    }\n",
       "\n",
       "    .dataframe thead th {\n",
       "        text-align: right;\n",
       "    }\n",
       "</style>\n",
       "<table border=\"1\" class=\"dataframe\">\n",
       "  <thead>\n",
       "    <tr style=\"text-align: right;\">\n",
       "      <th></th>\n",
       "      <th>Transaction ID</th>\n",
       "      <th>Item</th>\n",
       "      <th>Quantity</th>\n",
       "      <th>Price Per Unit</th>\n",
       "      <th>Total Spent</th>\n",
       "      <th>Payment Method</th>\n",
       "      <th>Location</th>\n",
       "      <th>Transaction Date</th>\n",
       "    </tr>\n",
       "  </thead>\n",
       "  <tbody>\n",
       "    <tr>\n",
       "      <th>0</th>\n",
       "      <td>TXN_1961373</td>\n",
       "      <td>Coffee</td>\n",
       "      <td>2.0</td>\n",
       "      <td>2.000000</td>\n",
       "      <td>4.000000</td>\n",
       "      <td>Credit Card</td>\n",
       "      <td>Takeaway</td>\n",
       "      <td>2023-09-08</td>\n",
       "    </tr>\n",
       "    <tr>\n",
       "      <th>1</th>\n",
       "      <td>TXN_4977031</td>\n",
       "      <td>Cake</td>\n",
       "      <td>4.0</td>\n",
       "      <td>3.000000</td>\n",
       "      <td>12.000000</td>\n",
       "      <td>Cash</td>\n",
       "      <td>In-store</td>\n",
       "      <td>2023-05-16</td>\n",
       "    </tr>\n",
       "    <tr>\n",
       "      <th>2</th>\n",
       "      <td>TXN_4271903</td>\n",
       "      <td>Cookie</td>\n",
       "      <td>4.0</td>\n",
       "      <td>1.000000</td>\n",
       "      <td>8.924352</td>\n",
       "      <td>Credit Card</td>\n",
       "      <td>In-store</td>\n",
       "      <td>2023-07-19</td>\n",
       "    </tr>\n",
       "    <tr>\n",
       "      <th>3</th>\n",
       "      <td>TXN_7034554</td>\n",
       "      <td>Salad</td>\n",
       "      <td>2.0</td>\n",
       "      <td>5.000000</td>\n",
       "      <td>10.000000</td>\n",
       "      <td>UNKNOWN</td>\n",
       "      <td>UNKNOWN</td>\n",
       "      <td>2023-04-27</td>\n",
       "    </tr>\n",
       "    <tr>\n",
       "      <th>4</th>\n",
       "      <td>TXN_3160411</td>\n",
       "      <td>Coffee</td>\n",
       "      <td>2.0</td>\n",
       "      <td>2.000000</td>\n",
       "      <td>4.000000</td>\n",
       "      <td>Digital Wallet</td>\n",
       "      <td>In-store</td>\n",
       "      <td>2023-06-11</td>\n",
       "    </tr>\n",
       "    <tr>\n",
       "      <th>...</th>\n",
       "      <td>...</td>\n",
       "      <td>...</td>\n",
       "      <td>...</td>\n",
       "      <td>...</td>\n",
       "      <td>...</td>\n",
       "      <td>...</td>\n",
       "      <td>...</td>\n",
       "      <td>...</td>\n",
       "    </tr>\n",
       "    <tr>\n",
       "      <th>9995</th>\n",
       "      <td>TXN_7672686</td>\n",
       "      <td>Coffee</td>\n",
       "      <td>2.0</td>\n",
       "      <td>2.000000</td>\n",
       "      <td>4.000000</td>\n",
       "      <td>Digital Wallet</td>\n",
       "      <td>UNKNOWN</td>\n",
       "      <td>2023-08-30</td>\n",
       "    </tr>\n",
       "    <tr>\n",
       "      <th>9996</th>\n",
       "      <td>TXN_9659401</td>\n",
       "      <td>Juice</td>\n",
       "      <td>3.0</td>\n",
       "      <td>2.949984</td>\n",
       "      <td>3.000000</td>\n",
       "      <td>Digital Wallet</td>\n",
       "      <td>Takeaway</td>\n",
       "      <td>2023-06-02</td>\n",
       "    </tr>\n",
       "    <tr>\n",
       "      <th>9997</th>\n",
       "      <td>TXN_5255387</td>\n",
       "      <td>Coffee</td>\n",
       "      <td>4.0</td>\n",
       "      <td>2.000000</td>\n",
       "      <td>8.000000</td>\n",
       "      <td>Digital Wallet</td>\n",
       "      <td>Takeaway</td>\n",
       "      <td>2023-03-02</td>\n",
       "    </tr>\n",
       "    <tr>\n",
       "      <th>9998</th>\n",
       "      <td>TXN_7695629</td>\n",
       "      <td>Cookie</td>\n",
       "      <td>3.0</td>\n",
       "      <td>2.949984</td>\n",
       "      <td>3.000000</td>\n",
       "      <td>Digital Wallet</td>\n",
       "      <td>Takeaway</td>\n",
       "      <td>2023-12-02</td>\n",
       "    </tr>\n",
       "    <tr>\n",
       "      <th>9999</th>\n",
       "      <td>TXN_6170729</td>\n",
       "      <td>Sandwich</td>\n",
       "      <td>3.0</td>\n",
       "      <td>4.000000</td>\n",
       "      <td>12.000000</td>\n",
       "      <td>Cash</td>\n",
       "      <td>In-store</td>\n",
       "      <td>2023-11-07</td>\n",
       "    </tr>\n",
       "  </tbody>\n",
       "</table>\n",
       "<p>10000 rows × 8 columns</p>\n",
       "</div>"
      ],
      "text/plain": [
       "     Transaction ID      Item  Quantity  Price Per Unit  Total Spent  \\\n",
       "0       TXN_1961373    Coffee       2.0        2.000000     4.000000   \n",
       "1       TXN_4977031      Cake       4.0        3.000000    12.000000   \n",
       "2       TXN_4271903    Cookie       4.0        1.000000     8.924352   \n",
       "3       TXN_7034554     Salad       2.0        5.000000    10.000000   \n",
       "4       TXN_3160411    Coffee       2.0        2.000000     4.000000   \n",
       "...             ...       ...       ...             ...          ...   \n",
       "9995    TXN_7672686    Coffee       2.0        2.000000     4.000000   \n",
       "9996    TXN_9659401     Juice       3.0        2.949984     3.000000   \n",
       "9997    TXN_5255387    Coffee       4.0        2.000000     8.000000   \n",
       "9998    TXN_7695629    Cookie       3.0        2.949984     3.000000   \n",
       "9999    TXN_6170729  Sandwich       3.0        4.000000    12.000000   \n",
       "\n",
       "      Payment Method  Location Transaction Date  \n",
       "0        Credit Card  Takeaway       2023-09-08  \n",
       "1               Cash  In-store       2023-05-16  \n",
       "2        Credit Card  In-store       2023-07-19  \n",
       "3            UNKNOWN   UNKNOWN       2023-04-27  \n",
       "4     Digital Wallet  In-store       2023-06-11  \n",
       "...              ...       ...              ...  \n",
       "9995  Digital Wallet   UNKNOWN       2023-08-30  \n",
       "9996  Digital Wallet  Takeaway       2023-06-02  \n",
       "9997  Digital Wallet  Takeaway       2023-03-02  \n",
       "9998  Digital Wallet  Takeaway       2023-12-02  \n",
       "9999            Cash  In-store       2023-11-07  \n",
       "\n",
       "[10000 rows x 8 columns]"
      ]
     },
     "execution_count": 21,
     "metadata": {},
     "output_type": "execute_result"
    }
   ],
   "source": [
    "df"
   ]
  },
  {
   "cell_type": "code",
   "execution_count": 22,
   "id": "96fd7ff6-3c28-4751-9463-32ddf2dd5383",
   "metadata": {},
   "outputs": [
    {
     "name": "stdout",
     "output_type": "stream",
     "text": [
      "<class 'pandas.core.frame.DataFrame'>\n",
      "RangeIndex: 10000 entries, 0 to 9999\n",
      "Data columns (total 8 columns):\n",
      " #   Column            Non-Null Count  Dtype         \n",
      "---  ------            --------------  -----         \n",
      " 0   Transaction ID    10000 non-null  object        \n",
      " 1   Item              10000 non-null  object        \n",
      " 2   Quantity          10000 non-null  float64       \n",
      " 3   Price Per Unit    10000 non-null  float64       \n",
      " 4   Total Spent       10000 non-null  float64       \n",
      " 5   Payment Method    10000 non-null  object        \n",
      " 6   Location          10000 non-null  object        \n",
      " 7   Transaction Date  10000 non-null  datetime64[ns]\n",
      "dtypes: datetime64[ns](1), float64(3), object(4)\n",
      "memory usage: 625.1+ KB\n"
     ]
    }
   ],
   "source": [
    "df.info()"
   ]
  },
  {
   "cell_type": "code",
   "execution_count": 23,
   "id": "9918188e-cadc-4452-90cb-4ac23867299f",
   "metadata": {},
   "outputs": [
    {
     "data": {
      "text/plain": [
       "Transaction ID      0\n",
       "Item                0\n",
       "Quantity            0\n",
       "Price Per Unit      0\n",
       "Total Spent         0\n",
       "Payment Method      0\n",
       "Location            0\n",
       "Transaction Date    0\n",
       "dtype: int64"
      ]
     },
     "execution_count": 23,
     "metadata": {},
     "output_type": "execute_result"
    }
   ],
   "source": [
    "df.isnull().sum()"
   ]
  },
  {
   "cell_type": "markdown",
   "id": "5d9ea240-ca36-4064-8740-dbc7c16be4d6",
   "metadata": {},
   "source": [
    "## Round_off columns values"
   ]
  },
  {
   "cell_type": "code",
   "execution_count": 24,
   "id": "781f0b03-af76-44d4-97af-2d3a0f26a867",
   "metadata": {},
   "outputs": [],
   "source": [
    "roundoff_columns=['Price Per Unit','Total Spent']"
   ]
  },
  {
   "cell_type": "code",
   "execution_count": 25,
   "id": "69af9135-e843-43b6-bf8d-62135a3b40e0",
   "metadata": {},
   "outputs": [],
   "source": [
    "df[roundoff_columns] = df[roundoff_columns].apply(lambda x:x.round(2))"
   ]
  },
  {
   "cell_type": "code",
   "execution_count": 26,
   "id": "12440468-f5e4-4349-bbf7-7ea9c8250dde",
   "metadata": {},
   "outputs": [
    {
     "data": {
      "text/html": [
       "<div>\n",
       "<style scoped>\n",
       "    .dataframe tbody tr th:only-of-type {\n",
       "        vertical-align: middle;\n",
       "    }\n",
       "\n",
       "    .dataframe tbody tr th {\n",
       "        vertical-align: top;\n",
       "    }\n",
       "\n",
       "    .dataframe thead th {\n",
       "        text-align: right;\n",
       "    }\n",
       "</style>\n",
       "<table border=\"1\" class=\"dataframe\">\n",
       "  <thead>\n",
       "    <tr style=\"text-align: right;\">\n",
       "      <th></th>\n",
       "      <th>Transaction ID</th>\n",
       "      <th>Item</th>\n",
       "      <th>Quantity</th>\n",
       "      <th>Price Per Unit</th>\n",
       "      <th>Total Spent</th>\n",
       "      <th>Payment Method</th>\n",
       "      <th>Location</th>\n",
       "      <th>Transaction Date</th>\n",
       "    </tr>\n",
       "  </thead>\n",
       "  <tbody>\n",
       "    <tr>\n",
       "      <th>0</th>\n",
       "      <td>TXN_1961373</td>\n",
       "      <td>Coffee</td>\n",
       "      <td>2.0</td>\n",
       "      <td>2.00</td>\n",
       "      <td>4.00</td>\n",
       "      <td>Credit Card</td>\n",
       "      <td>Takeaway</td>\n",
       "      <td>2023-09-08</td>\n",
       "    </tr>\n",
       "    <tr>\n",
       "      <th>1</th>\n",
       "      <td>TXN_4977031</td>\n",
       "      <td>Cake</td>\n",
       "      <td>4.0</td>\n",
       "      <td>3.00</td>\n",
       "      <td>12.00</td>\n",
       "      <td>Cash</td>\n",
       "      <td>In-store</td>\n",
       "      <td>2023-05-16</td>\n",
       "    </tr>\n",
       "    <tr>\n",
       "      <th>2</th>\n",
       "      <td>TXN_4271903</td>\n",
       "      <td>Cookie</td>\n",
       "      <td>4.0</td>\n",
       "      <td>1.00</td>\n",
       "      <td>8.92</td>\n",
       "      <td>Credit Card</td>\n",
       "      <td>In-store</td>\n",
       "      <td>2023-07-19</td>\n",
       "    </tr>\n",
       "    <tr>\n",
       "      <th>3</th>\n",
       "      <td>TXN_7034554</td>\n",
       "      <td>Salad</td>\n",
       "      <td>2.0</td>\n",
       "      <td>5.00</td>\n",
       "      <td>10.00</td>\n",
       "      <td>UNKNOWN</td>\n",
       "      <td>UNKNOWN</td>\n",
       "      <td>2023-04-27</td>\n",
       "    </tr>\n",
       "    <tr>\n",
       "      <th>4</th>\n",
       "      <td>TXN_3160411</td>\n",
       "      <td>Coffee</td>\n",
       "      <td>2.0</td>\n",
       "      <td>2.00</td>\n",
       "      <td>4.00</td>\n",
       "      <td>Digital Wallet</td>\n",
       "      <td>In-store</td>\n",
       "      <td>2023-06-11</td>\n",
       "    </tr>\n",
       "    <tr>\n",
       "      <th>...</th>\n",
       "      <td>...</td>\n",
       "      <td>...</td>\n",
       "      <td>...</td>\n",
       "      <td>...</td>\n",
       "      <td>...</td>\n",
       "      <td>...</td>\n",
       "      <td>...</td>\n",
       "      <td>...</td>\n",
       "    </tr>\n",
       "    <tr>\n",
       "      <th>9995</th>\n",
       "      <td>TXN_7672686</td>\n",
       "      <td>Coffee</td>\n",
       "      <td>2.0</td>\n",
       "      <td>2.00</td>\n",
       "      <td>4.00</td>\n",
       "      <td>Digital Wallet</td>\n",
       "      <td>UNKNOWN</td>\n",
       "      <td>2023-08-30</td>\n",
       "    </tr>\n",
       "    <tr>\n",
       "      <th>9996</th>\n",
       "      <td>TXN_9659401</td>\n",
       "      <td>Juice</td>\n",
       "      <td>3.0</td>\n",
       "      <td>2.95</td>\n",
       "      <td>3.00</td>\n",
       "      <td>Digital Wallet</td>\n",
       "      <td>Takeaway</td>\n",
       "      <td>2023-06-02</td>\n",
       "    </tr>\n",
       "    <tr>\n",
       "      <th>9997</th>\n",
       "      <td>TXN_5255387</td>\n",
       "      <td>Coffee</td>\n",
       "      <td>4.0</td>\n",
       "      <td>2.00</td>\n",
       "      <td>8.00</td>\n",
       "      <td>Digital Wallet</td>\n",
       "      <td>Takeaway</td>\n",
       "      <td>2023-03-02</td>\n",
       "    </tr>\n",
       "    <tr>\n",
       "      <th>9998</th>\n",
       "      <td>TXN_7695629</td>\n",
       "      <td>Cookie</td>\n",
       "      <td>3.0</td>\n",
       "      <td>2.95</td>\n",
       "      <td>3.00</td>\n",
       "      <td>Digital Wallet</td>\n",
       "      <td>Takeaway</td>\n",
       "      <td>2023-12-02</td>\n",
       "    </tr>\n",
       "    <tr>\n",
       "      <th>9999</th>\n",
       "      <td>TXN_6170729</td>\n",
       "      <td>Sandwich</td>\n",
       "      <td>3.0</td>\n",
       "      <td>4.00</td>\n",
       "      <td>12.00</td>\n",
       "      <td>Cash</td>\n",
       "      <td>In-store</td>\n",
       "      <td>2023-11-07</td>\n",
       "    </tr>\n",
       "  </tbody>\n",
       "</table>\n",
       "<p>10000 rows × 8 columns</p>\n",
       "</div>"
      ],
      "text/plain": [
       "     Transaction ID      Item  Quantity  Price Per Unit  Total Spent  \\\n",
       "0       TXN_1961373    Coffee       2.0            2.00         4.00   \n",
       "1       TXN_4977031      Cake       4.0            3.00        12.00   \n",
       "2       TXN_4271903    Cookie       4.0            1.00         8.92   \n",
       "3       TXN_7034554     Salad       2.0            5.00        10.00   \n",
       "4       TXN_3160411    Coffee       2.0            2.00         4.00   \n",
       "...             ...       ...       ...             ...          ...   \n",
       "9995    TXN_7672686    Coffee       2.0            2.00         4.00   \n",
       "9996    TXN_9659401     Juice       3.0            2.95         3.00   \n",
       "9997    TXN_5255387    Coffee       4.0            2.00         8.00   \n",
       "9998    TXN_7695629    Cookie       3.0            2.95         3.00   \n",
       "9999    TXN_6170729  Sandwich       3.0            4.00        12.00   \n",
       "\n",
       "      Payment Method  Location Transaction Date  \n",
       "0        Credit Card  Takeaway       2023-09-08  \n",
       "1               Cash  In-store       2023-05-16  \n",
       "2        Credit Card  In-store       2023-07-19  \n",
       "3            UNKNOWN   UNKNOWN       2023-04-27  \n",
       "4     Digital Wallet  In-store       2023-06-11  \n",
       "...              ...       ...              ...  \n",
       "9995  Digital Wallet   UNKNOWN       2023-08-30  \n",
       "9996  Digital Wallet  Takeaway       2023-06-02  \n",
       "9997  Digital Wallet  Takeaway       2023-03-02  \n",
       "9998  Digital Wallet  Takeaway       2023-12-02  \n",
       "9999            Cash  In-store       2023-11-07  \n",
       "\n",
       "[10000 rows x 8 columns]"
      ]
     },
     "execution_count": 26,
     "metadata": {},
     "output_type": "execute_result"
    }
   ],
   "source": [
    "df"
   ]
  },
  {
   "cell_type": "markdown",
   "id": "d11a59e5-1407-441e-a533-1d0174a641c0",
   "metadata": {},
   "source": [
    "## Changing the datatype in Dataset"
   ]
  },
  {
   "cell_type": "code",
   "execution_count": 27,
   "id": "aef6b0ca-3105-48c5-be5f-b29f346ba32c",
   "metadata": {},
   "outputs": [],
   "source": [
    "df['Quantity'] = df['Quantity'].astype(int)"
   ]
  },
  {
   "cell_type": "code",
   "execution_count": 28,
   "id": "687e5b7e-c840-4ffe-ac40-c91bbdb59d7f",
   "metadata": {},
   "outputs": [
    {
     "data": {
      "text/html": [
       "<div>\n",
       "<style scoped>\n",
       "    .dataframe tbody tr th:only-of-type {\n",
       "        vertical-align: middle;\n",
       "    }\n",
       "\n",
       "    .dataframe tbody tr th {\n",
       "        vertical-align: top;\n",
       "    }\n",
       "\n",
       "    .dataframe thead th {\n",
       "        text-align: right;\n",
       "    }\n",
       "</style>\n",
       "<table border=\"1\" class=\"dataframe\">\n",
       "  <thead>\n",
       "    <tr style=\"text-align: right;\">\n",
       "      <th></th>\n",
       "      <th>Transaction ID</th>\n",
       "      <th>Item</th>\n",
       "      <th>Quantity</th>\n",
       "      <th>Price Per Unit</th>\n",
       "      <th>Total Spent</th>\n",
       "      <th>Payment Method</th>\n",
       "      <th>Location</th>\n",
       "      <th>Transaction Date</th>\n",
       "    </tr>\n",
       "  </thead>\n",
       "  <tbody>\n",
       "    <tr>\n",
       "      <th>0</th>\n",
       "      <td>TXN_1961373</td>\n",
       "      <td>Coffee</td>\n",
       "      <td>2</td>\n",
       "      <td>2.00</td>\n",
       "      <td>4.00</td>\n",
       "      <td>Credit Card</td>\n",
       "      <td>Takeaway</td>\n",
       "      <td>2023-09-08</td>\n",
       "    </tr>\n",
       "    <tr>\n",
       "      <th>1</th>\n",
       "      <td>TXN_4977031</td>\n",
       "      <td>Cake</td>\n",
       "      <td>4</td>\n",
       "      <td>3.00</td>\n",
       "      <td>12.00</td>\n",
       "      <td>Cash</td>\n",
       "      <td>In-store</td>\n",
       "      <td>2023-05-16</td>\n",
       "    </tr>\n",
       "    <tr>\n",
       "      <th>2</th>\n",
       "      <td>TXN_4271903</td>\n",
       "      <td>Cookie</td>\n",
       "      <td>4</td>\n",
       "      <td>1.00</td>\n",
       "      <td>8.92</td>\n",
       "      <td>Credit Card</td>\n",
       "      <td>In-store</td>\n",
       "      <td>2023-07-19</td>\n",
       "    </tr>\n",
       "    <tr>\n",
       "      <th>3</th>\n",
       "      <td>TXN_7034554</td>\n",
       "      <td>Salad</td>\n",
       "      <td>2</td>\n",
       "      <td>5.00</td>\n",
       "      <td>10.00</td>\n",
       "      <td>UNKNOWN</td>\n",
       "      <td>UNKNOWN</td>\n",
       "      <td>2023-04-27</td>\n",
       "    </tr>\n",
       "    <tr>\n",
       "      <th>4</th>\n",
       "      <td>TXN_3160411</td>\n",
       "      <td>Coffee</td>\n",
       "      <td>2</td>\n",
       "      <td>2.00</td>\n",
       "      <td>4.00</td>\n",
       "      <td>Digital Wallet</td>\n",
       "      <td>In-store</td>\n",
       "      <td>2023-06-11</td>\n",
       "    </tr>\n",
       "    <tr>\n",
       "      <th>...</th>\n",
       "      <td>...</td>\n",
       "      <td>...</td>\n",
       "      <td>...</td>\n",
       "      <td>...</td>\n",
       "      <td>...</td>\n",
       "      <td>...</td>\n",
       "      <td>...</td>\n",
       "      <td>...</td>\n",
       "    </tr>\n",
       "    <tr>\n",
       "      <th>9995</th>\n",
       "      <td>TXN_7672686</td>\n",
       "      <td>Coffee</td>\n",
       "      <td>2</td>\n",
       "      <td>2.00</td>\n",
       "      <td>4.00</td>\n",
       "      <td>Digital Wallet</td>\n",
       "      <td>UNKNOWN</td>\n",
       "      <td>2023-08-30</td>\n",
       "    </tr>\n",
       "    <tr>\n",
       "      <th>9996</th>\n",
       "      <td>TXN_9659401</td>\n",
       "      <td>Juice</td>\n",
       "      <td>3</td>\n",
       "      <td>2.95</td>\n",
       "      <td>3.00</td>\n",
       "      <td>Digital Wallet</td>\n",
       "      <td>Takeaway</td>\n",
       "      <td>2023-06-02</td>\n",
       "    </tr>\n",
       "    <tr>\n",
       "      <th>9997</th>\n",
       "      <td>TXN_5255387</td>\n",
       "      <td>Coffee</td>\n",
       "      <td>4</td>\n",
       "      <td>2.00</td>\n",
       "      <td>8.00</td>\n",
       "      <td>Digital Wallet</td>\n",
       "      <td>Takeaway</td>\n",
       "      <td>2023-03-02</td>\n",
       "    </tr>\n",
       "    <tr>\n",
       "      <th>9998</th>\n",
       "      <td>TXN_7695629</td>\n",
       "      <td>Cookie</td>\n",
       "      <td>3</td>\n",
       "      <td>2.95</td>\n",
       "      <td>3.00</td>\n",
       "      <td>Digital Wallet</td>\n",
       "      <td>Takeaway</td>\n",
       "      <td>2023-12-02</td>\n",
       "    </tr>\n",
       "    <tr>\n",
       "      <th>9999</th>\n",
       "      <td>TXN_6170729</td>\n",
       "      <td>Sandwich</td>\n",
       "      <td>3</td>\n",
       "      <td>4.00</td>\n",
       "      <td>12.00</td>\n",
       "      <td>Cash</td>\n",
       "      <td>In-store</td>\n",
       "      <td>2023-11-07</td>\n",
       "    </tr>\n",
       "  </tbody>\n",
       "</table>\n",
       "<p>10000 rows × 8 columns</p>\n",
       "</div>"
      ],
      "text/plain": [
       "     Transaction ID      Item  Quantity  Price Per Unit  Total Spent  \\\n",
       "0       TXN_1961373    Coffee         2            2.00         4.00   \n",
       "1       TXN_4977031      Cake         4            3.00        12.00   \n",
       "2       TXN_4271903    Cookie         4            1.00         8.92   \n",
       "3       TXN_7034554     Salad         2            5.00        10.00   \n",
       "4       TXN_3160411    Coffee         2            2.00         4.00   \n",
       "...             ...       ...       ...             ...          ...   \n",
       "9995    TXN_7672686    Coffee         2            2.00         4.00   \n",
       "9996    TXN_9659401     Juice         3            2.95         3.00   \n",
       "9997    TXN_5255387    Coffee         4            2.00         8.00   \n",
       "9998    TXN_7695629    Cookie         3            2.95         3.00   \n",
       "9999    TXN_6170729  Sandwich         3            4.00        12.00   \n",
       "\n",
       "      Payment Method  Location Transaction Date  \n",
       "0        Credit Card  Takeaway       2023-09-08  \n",
       "1               Cash  In-store       2023-05-16  \n",
       "2        Credit Card  In-store       2023-07-19  \n",
       "3            UNKNOWN   UNKNOWN       2023-04-27  \n",
       "4     Digital Wallet  In-store       2023-06-11  \n",
       "...              ...       ...              ...  \n",
       "9995  Digital Wallet   UNKNOWN       2023-08-30  \n",
       "9996  Digital Wallet  Takeaway       2023-06-02  \n",
       "9997  Digital Wallet  Takeaway       2023-03-02  \n",
       "9998  Digital Wallet  Takeaway       2023-12-02  \n",
       "9999            Cash  In-store       2023-11-07  \n",
       "\n",
       "[10000 rows x 8 columns]"
      ]
     },
     "execution_count": 28,
     "metadata": {},
     "output_type": "execute_result"
    }
   ],
   "source": [
    "df"
   ]
  },
  {
   "cell_type": "code",
   "execution_count": 29,
   "id": "33d81b25-7119-40c0-aace-d1b02d009672",
   "metadata": {},
   "outputs": [
    {
     "name": "stdout",
     "output_type": "stream",
     "text": [
      "<class 'pandas.core.frame.DataFrame'>\n",
      "RangeIndex: 10000 entries, 0 to 9999\n",
      "Data columns (total 8 columns):\n",
      " #   Column            Non-Null Count  Dtype         \n",
      "---  ------            --------------  -----         \n",
      " 0   Transaction ID    10000 non-null  object        \n",
      " 1   Item              10000 non-null  object        \n",
      " 2   Quantity          10000 non-null  int64         \n",
      " 3   Price Per Unit    10000 non-null  float64       \n",
      " 4   Total Spent       10000 non-null  float64       \n",
      " 5   Payment Method    10000 non-null  object        \n",
      " 6   Location          10000 non-null  object        \n",
      " 7   Transaction Date  10000 non-null  datetime64[ns]\n",
      "dtypes: datetime64[ns](1), float64(2), int64(1), object(4)\n",
      "memory usage: 625.1+ KB\n"
     ]
    }
   ],
   "source": [
    "df.info()"
   ]
  },
  {
   "cell_type": "markdown",
   "id": "c2c82dbc-37ae-4077-911d-7a1680099fb1",
   "metadata": {},
   "source": [
    "## To check the Dataset shape"
   ]
  },
  {
   "cell_type": "code",
   "execution_count": 30,
   "id": "32c45a5c-4f84-49ff-aa9a-df822bd09958",
   "metadata": {},
   "outputs": [
    {
     "data": {
      "text/plain": [
       "(10000, 8)"
      ]
     },
     "execution_count": 30,
     "metadata": {},
     "output_type": "execute_result"
    }
   ],
   "source": [
    "df.shape"
   ]
  },
  {
   "cell_type": "markdown",
   "id": "39a34078-76de-451a-8876-2264eb7facbe",
   "metadata": {},
   "source": [
    "## Replace the UNKNOWN AND ERROR Values in dataset"
   ]
  },
  {
   "cell_type": "code",
   "execution_count": 31,
   "id": "0f5944f1-2682-4a23-8dd8-dd545a5a6147",
   "metadata": {},
   "outputs": [],
   "source": [
    "df['Payment Method'] = df['Payment Method'].replace('UNKNOWN', 'Digital Wallet')\n",
    "df['Location'] = df['Location'].replace('UNKNOWN', 'Takeaway')\n",
    "df['Item'] = df['Item'].replace('UNKNOWN', 'Juice')\n",
    "df['Payment Method'] = df['Payment Method'].replace('ERROR', 'Digital Wallet')\n",
    "df['Location'] = df['Location'].replace('ERROR', 'Takeaway')\n",
    "df['Item'] = df['Item'].replace('ERROR', 'Juice')"
   ]
  },
  {
   "cell_type": "code",
   "execution_count": 32,
   "id": "5c835d85-c5ee-4f93-99da-c396bb9dc921",
   "metadata": {},
   "outputs": [
    {
     "data": {
      "text/html": [
       "<div>\n",
       "<style scoped>\n",
       "    .dataframe tbody tr th:only-of-type {\n",
       "        vertical-align: middle;\n",
       "    }\n",
       "\n",
       "    .dataframe tbody tr th {\n",
       "        vertical-align: top;\n",
       "    }\n",
       "\n",
       "    .dataframe thead th {\n",
       "        text-align: right;\n",
       "    }\n",
       "</style>\n",
       "<table border=\"1\" class=\"dataframe\">\n",
       "  <thead>\n",
       "    <tr style=\"text-align: right;\">\n",
       "      <th></th>\n",
       "      <th>Transaction ID</th>\n",
       "      <th>Item</th>\n",
       "      <th>Quantity</th>\n",
       "      <th>Price Per Unit</th>\n",
       "      <th>Total Spent</th>\n",
       "      <th>Payment Method</th>\n",
       "      <th>Location</th>\n",
       "      <th>Transaction Date</th>\n",
       "    </tr>\n",
       "  </thead>\n",
       "  <tbody>\n",
       "    <tr>\n",
       "      <th>0</th>\n",
       "      <td>TXN_1961373</td>\n",
       "      <td>Coffee</td>\n",
       "      <td>2</td>\n",
       "      <td>2.00</td>\n",
       "      <td>4.00</td>\n",
       "      <td>Credit Card</td>\n",
       "      <td>Takeaway</td>\n",
       "      <td>2023-09-08</td>\n",
       "    </tr>\n",
       "    <tr>\n",
       "      <th>1</th>\n",
       "      <td>TXN_4977031</td>\n",
       "      <td>Cake</td>\n",
       "      <td>4</td>\n",
       "      <td>3.00</td>\n",
       "      <td>12.00</td>\n",
       "      <td>Cash</td>\n",
       "      <td>In-store</td>\n",
       "      <td>2023-05-16</td>\n",
       "    </tr>\n",
       "    <tr>\n",
       "      <th>2</th>\n",
       "      <td>TXN_4271903</td>\n",
       "      <td>Cookie</td>\n",
       "      <td>4</td>\n",
       "      <td>1.00</td>\n",
       "      <td>8.92</td>\n",
       "      <td>Credit Card</td>\n",
       "      <td>In-store</td>\n",
       "      <td>2023-07-19</td>\n",
       "    </tr>\n",
       "    <tr>\n",
       "      <th>3</th>\n",
       "      <td>TXN_7034554</td>\n",
       "      <td>Salad</td>\n",
       "      <td>2</td>\n",
       "      <td>5.00</td>\n",
       "      <td>10.00</td>\n",
       "      <td>Digital Wallet</td>\n",
       "      <td>Takeaway</td>\n",
       "      <td>2023-04-27</td>\n",
       "    </tr>\n",
       "    <tr>\n",
       "      <th>4</th>\n",
       "      <td>TXN_3160411</td>\n",
       "      <td>Coffee</td>\n",
       "      <td>2</td>\n",
       "      <td>2.00</td>\n",
       "      <td>4.00</td>\n",
       "      <td>Digital Wallet</td>\n",
       "      <td>In-store</td>\n",
       "      <td>2023-06-11</td>\n",
       "    </tr>\n",
       "    <tr>\n",
       "      <th>...</th>\n",
       "      <td>...</td>\n",
       "      <td>...</td>\n",
       "      <td>...</td>\n",
       "      <td>...</td>\n",
       "      <td>...</td>\n",
       "      <td>...</td>\n",
       "      <td>...</td>\n",
       "      <td>...</td>\n",
       "    </tr>\n",
       "    <tr>\n",
       "      <th>9995</th>\n",
       "      <td>TXN_7672686</td>\n",
       "      <td>Coffee</td>\n",
       "      <td>2</td>\n",
       "      <td>2.00</td>\n",
       "      <td>4.00</td>\n",
       "      <td>Digital Wallet</td>\n",
       "      <td>Takeaway</td>\n",
       "      <td>2023-08-30</td>\n",
       "    </tr>\n",
       "    <tr>\n",
       "      <th>9996</th>\n",
       "      <td>TXN_9659401</td>\n",
       "      <td>Juice</td>\n",
       "      <td>3</td>\n",
       "      <td>2.95</td>\n",
       "      <td>3.00</td>\n",
       "      <td>Digital Wallet</td>\n",
       "      <td>Takeaway</td>\n",
       "      <td>2023-06-02</td>\n",
       "    </tr>\n",
       "    <tr>\n",
       "      <th>9997</th>\n",
       "      <td>TXN_5255387</td>\n",
       "      <td>Coffee</td>\n",
       "      <td>4</td>\n",
       "      <td>2.00</td>\n",
       "      <td>8.00</td>\n",
       "      <td>Digital Wallet</td>\n",
       "      <td>Takeaway</td>\n",
       "      <td>2023-03-02</td>\n",
       "    </tr>\n",
       "    <tr>\n",
       "      <th>9998</th>\n",
       "      <td>TXN_7695629</td>\n",
       "      <td>Cookie</td>\n",
       "      <td>3</td>\n",
       "      <td>2.95</td>\n",
       "      <td>3.00</td>\n",
       "      <td>Digital Wallet</td>\n",
       "      <td>Takeaway</td>\n",
       "      <td>2023-12-02</td>\n",
       "    </tr>\n",
       "    <tr>\n",
       "      <th>9999</th>\n",
       "      <td>TXN_6170729</td>\n",
       "      <td>Sandwich</td>\n",
       "      <td>3</td>\n",
       "      <td>4.00</td>\n",
       "      <td>12.00</td>\n",
       "      <td>Cash</td>\n",
       "      <td>In-store</td>\n",
       "      <td>2023-11-07</td>\n",
       "    </tr>\n",
       "  </tbody>\n",
       "</table>\n",
       "<p>10000 rows × 8 columns</p>\n",
       "</div>"
      ],
      "text/plain": [
       "     Transaction ID      Item  Quantity  Price Per Unit  Total Spent  \\\n",
       "0       TXN_1961373    Coffee         2            2.00         4.00   \n",
       "1       TXN_4977031      Cake         4            3.00        12.00   \n",
       "2       TXN_4271903    Cookie         4            1.00         8.92   \n",
       "3       TXN_7034554     Salad         2            5.00        10.00   \n",
       "4       TXN_3160411    Coffee         2            2.00         4.00   \n",
       "...             ...       ...       ...             ...          ...   \n",
       "9995    TXN_7672686    Coffee         2            2.00         4.00   \n",
       "9996    TXN_9659401     Juice         3            2.95         3.00   \n",
       "9997    TXN_5255387    Coffee         4            2.00         8.00   \n",
       "9998    TXN_7695629    Cookie         3            2.95         3.00   \n",
       "9999    TXN_6170729  Sandwich         3            4.00        12.00   \n",
       "\n",
       "      Payment Method  Location Transaction Date  \n",
       "0        Credit Card  Takeaway       2023-09-08  \n",
       "1               Cash  In-store       2023-05-16  \n",
       "2        Credit Card  In-store       2023-07-19  \n",
       "3     Digital Wallet  Takeaway       2023-04-27  \n",
       "4     Digital Wallet  In-store       2023-06-11  \n",
       "...              ...       ...              ...  \n",
       "9995  Digital Wallet  Takeaway       2023-08-30  \n",
       "9996  Digital Wallet  Takeaway       2023-06-02  \n",
       "9997  Digital Wallet  Takeaway       2023-03-02  \n",
       "9998  Digital Wallet  Takeaway       2023-12-02  \n",
       "9999            Cash  In-store       2023-11-07  \n",
       "\n",
       "[10000 rows x 8 columns]"
      ]
     },
     "execution_count": 32,
     "metadata": {},
     "output_type": "execute_result"
    }
   ],
   "source": [
    "df"
   ]
  },
  {
   "cell_type": "markdown",
   "id": "f788732d-1a83-4de9-8601-b4d835f522c0",
   "metadata": {},
   "source": [
    "## Adding new columns to Analysis a datset in various conditions"
   ]
  },
  {
   "cell_type": "code",
   "execution_count": 33,
   "id": "c9aa4988-7903-407d-9db3-80dec987c957",
   "metadata": {},
   "outputs": [],
   "source": [
    "df['Day_of_Week'] = df['Transaction Date'].dt.day_name()  # Adds day name"
   ]
  },
  {
   "cell_type": "code",
   "execution_count": 34,
   "id": "0c7a9f93-fd28-42f0-a97e-c0d470eba8d1",
   "metadata": {},
   "outputs": [
    {
     "data": {
      "text/html": [
       "<div>\n",
       "<style scoped>\n",
       "    .dataframe tbody tr th:only-of-type {\n",
       "        vertical-align: middle;\n",
       "    }\n",
       "\n",
       "    .dataframe tbody tr th {\n",
       "        vertical-align: top;\n",
       "    }\n",
       "\n",
       "    .dataframe thead th {\n",
       "        text-align: right;\n",
       "    }\n",
       "</style>\n",
       "<table border=\"1\" class=\"dataframe\">\n",
       "  <thead>\n",
       "    <tr style=\"text-align: right;\">\n",
       "      <th></th>\n",
       "      <th>Transaction ID</th>\n",
       "      <th>Item</th>\n",
       "      <th>Quantity</th>\n",
       "      <th>Price Per Unit</th>\n",
       "      <th>Total Spent</th>\n",
       "      <th>Payment Method</th>\n",
       "      <th>Location</th>\n",
       "      <th>Transaction Date</th>\n",
       "      <th>Day_of_Week</th>\n",
       "    </tr>\n",
       "  </thead>\n",
       "  <tbody>\n",
       "    <tr>\n",
       "      <th>0</th>\n",
       "      <td>TXN_1961373</td>\n",
       "      <td>Coffee</td>\n",
       "      <td>2</td>\n",
       "      <td>2.00</td>\n",
       "      <td>4.00</td>\n",
       "      <td>Credit Card</td>\n",
       "      <td>Takeaway</td>\n",
       "      <td>2023-09-08</td>\n",
       "      <td>Friday</td>\n",
       "    </tr>\n",
       "    <tr>\n",
       "      <th>1</th>\n",
       "      <td>TXN_4977031</td>\n",
       "      <td>Cake</td>\n",
       "      <td>4</td>\n",
       "      <td>3.00</td>\n",
       "      <td>12.00</td>\n",
       "      <td>Cash</td>\n",
       "      <td>In-store</td>\n",
       "      <td>2023-05-16</td>\n",
       "      <td>Tuesday</td>\n",
       "    </tr>\n",
       "    <tr>\n",
       "      <th>2</th>\n",
       "      <td>TXN_4271903</td>\n",
       "      <td>Cookie</td>\n",
       "      <td>4</td>\n",
       "      <td>1.00</td>\n",
       "      <td>8.92</td>\n",
       "      <td>Credit Card</td>\n",
       "      <td>In-store</td>\n",
       "      <td>2023-07-19</td>\n",
       "      <td>Wednesday</td>\n",
       "    </tr>\n",
       "    <tr>\n",
       "      <th>3</th>\n",
       "      <td>TXN_7034554</td>\n",
       "      <td>Salad</td>\n",
       "      <td>2</td>\n",
       "      <td>5.00</td>\n",
       "      <td>10.00</td>\n",
       "      <td>Digital Wallet</td>\n",
       "      <td>Takeaway</td>\n",
       "      <td>2023-04-27</td>\n",
       "      <td>Thursday</td>\n",
       "    </tr>\n",
       "    <tr>\n",
       "      <th>4</th>\n",
       "      <td>TXN_3160411</td>\n",
       "      <td>Coffee</td>\n",
       "      <td>2</td>\n",
       "      <td>2.00</td>\n",
       "      <td>4.00</td>\n",
       "      <td>Digital Wallet</td>\n",
       "      <td>In-store</td>\n",
       "      <td>2023-06-11</td>\n",
       "      <td>Sunday</td>\n",
       "    </tr>\n",
       "    <tr>\n",
       "      <th>...</th>\n",
       "      <td>...</td>\n",
       "      <td>...</td>\n",
       "      <td>...</td>\n",
       "      <td>...</td>\n",
       "      <td>...</td>\n",
       "      <td>...</td>\n",
       "      <td>...</td>\n",
       "      <td>...</td>\n",
       "      <td>...</td>\n",
       "    </tr>\n",
       "    <tr>\n",
       "      <th>9995</th>\n",
       "      <td>TXN_7672686</td>\n",
       "      <td>Coffee</td>\n",
       "      <td>2</td>\n",
       "      <td>2.00</td>\n",
       "      <td>4.00</td>\n",
       "      <td>Digital Wallet</td>\n",
       "      <td>Takeaway</td>\n",
       "      <td>2023-08-30</td>\n",
       "      <td>Wednesday</td>\n",
       "    </tr>\n",
       "    <tr>\n",
       "      <th>9996</th>\n",
       "      <td>TXN_9659401</td>\n",
       "      <td>Juice</td>\n",
       "      <td>3</td>\n",
       "      <td>2.95</td>\n",
       "      <td>3.00</td>\n",
       "      <td>Digital Wallet</td>\n",
       "      <td>Takeaway</td>\n",
       "      <td>2023-06-02</td>\n",
       "      <td>Friday</td>\n",
       "    </tr>\n",
       "    <tr>\n",
       "      <th>9997</th>\n",
       "      <td>TXN_5255387</td>\n",
       "      <td>Coffee</td>\n",
       "      <td>4</td>\n",
       "      <td>2.00</td>\n",
       "      <td>8.00</td>\n",
       "      <td>Digital Wallet</td>\n",
       "      <td>Takeaway</td>\n",
       "      <td>2023-03-02</td>\n",
       "      <td>Thursday</td>\n",
       "    </tr>\n",
       "    <tr>\n",
       "      <th>9998</th>\n",
       "      <td>TXN_7695629</td>\n",
       "      <td>Cookie</td>\n",
       "      <td>3</td>\n",
       "      <td>2.95</td>\n",
       "      <td>3.00</td>\n",
       "      <td>Digital Wallet</td>\n",
       "      <td>Takeaway</td>\n",
       "      <td>2023-12-02</td>\n",
       "      <td>Saturday</td>\n",
       "    </tr>\n",
       "    <tr>\n",
       "      <th>9999</th>\n",
       "      <td>TXN_6170729</td>\n",
       "      <td>Sandwich</td>\n",
       "      <td>3</td>\n",
       "      <td>4.00</td>\n",
       "      <td>12.00</td>\n",
       "      <td>Cash</td>\n",
       "      <td>In-store</td>\n",
       "      <td>2023-11-07</td>\n",
       "      <td>Tuesday</td>\n",
       "    </tr>\n",
       "  </tbody>\n",
       "</table>\n",
       "<p>10000 rows × 9 columns</p>\n",
       "</div>"
      ],
      "text/plain": [
       "     Transaction ID      Item  Quantity  Price Per Unit  Total Spent  \\\n",
       "0       TXN_1961373    Coffee         2            2.00         4.00   \n",
       "1       TXN_4977031      Cake         4            3.00        12.00   \n",
       "2       TXN_4271903    Cookie         4            1.00         8.92   \n",
       "3       TXN_7034554     Salad         2            5.00        10.00   \n",
       "4       TXN_3160411    Coffee         2            2.00         4.00   \n",
       "...             ...       ...       ...             ...          ...   \n",
       "9995    TXN_7672686    Coffee         2            2.00         4.00   \n",
       "9996    TXN_9659401     Juice         3            2.95         3.00   \n",
       "9997    TXN_5255387    Coffee         4            2.00         8.00   \n",
       "9998    TXN_7695629    Cookie         3            2.95         3.00   \n",
       "9999    TXN_6170729  Sandwich         3            4.00        12.00   \n",
       "\n",
       "      Payment Method  Location Transaction Date Day_of_Week  \n",
       "0        Credit Card  Takeaway       2023-09-08      Friday  \n",
       "1               Cash  In-store       2023-05-16     Tuesday  \n",
       "2        Credit Card  In-store       2023-07-19   Wednesday  \n",
       "3     Digital Wallet  Takeaway       2023-04-27    Thursday  \n",
       "4     Digital Wallet  In-store       2023-06-11      Sunday  \n",
       "...              ...       ...              ...         ...  \n",
       "9995  Digital Wallet  Takeaway       2023-08-30   Wednesday  \n",
       "9996  Digital Wallet  Takeaway       2023-06-02      Friday  \n",
       "9997  Digital Wallet  Takeaway       2023-03-02    Thursday  \n",
       "9998  Digital Wallet  Takeaway       2023-12-02    Saturday  \n",
       "9999            Cash  In-store       2023-11-07     Tuesday  \n",
       "\n",
       "[10000 rows x 9 columns]"
      ]
     },
     "execution_count": 34,
     "metadata": {},
     "output_type": "execute_result"
    }
   ],
   "source": [
    "df"
   ]
  },
  {
   "cell_type": "code",
   "execution_count": 35,
   "id": "d207fc68-fc2a-41c2-8644-369f3de8fceb",
   "metadata": {},
   "outputs": [
    {
     "data": {
      "text/html": [
       "<div>\n",
       "<style scoped>\n",
       "    .dataframe tbody tr th:only-of-type {\n",
       "        vertical-align: middle;\n",
       "    }\n",
       "\n",
       "    .dataframe tbody tr th {\n",
       "        vertical-align: top;\n",
       "    }\n",
       "\n",
       "    .dataframe thead th {\n",
       "        text-align: right;\n",
       "    }\n",
       "</style>\n",
       "<table border=\"1\" class=\"dataframe\">\n",
       "  <thead>\n",
       "    <tr style=\"text-align: right;\">\n",
       "      <th></th>\n",
       "      <th>Transaction ID</th>\n",
       "      <th>Item</th>\n",
       "      <th>Quantity</th>\n",
       "      <th>Price Per Unit</th>\n",
       "      <th>Total Spent</th>\n",
       "      <th>Payment Method</th>\n",
       "      <th>Location</th>\n",
       "      <th>Transaction Date</th>\n",
       "      <th>Day_of_Week</th>\n",
       "      <th>Transaction Month</th>\n",
       "    </tr>\n",
       "  </thead>\n",
       "  <tbody>\n",
       "    <tr>\n",
       "      <th>0</th>\n",
       "      <td>TXN_1961373</td>\n",
       "      <td>Coffee</td>\n",
       "      <td>2</td>\n",
       "      <td>2.00</td>\n",
       "      <td>4.00</td>\n",
       "      <td>Credit Card</td>\n",
       "      <td>Takeaway</td>\n",
       "      <td>2023-09-08</td>\n",
       "      <td>Friday</td>\n",
       "      <td>September</td>\n",
       "    </tr>\n",
       "    <tr>\n",
       "      <th>1</th>\n",
       "      <td>TXN_4977031</td>\n",
       "      <td>Cake</td>\n",
       "      <td>4</td>\n",
       "      <td>3.00</td>\n",
       "      <td>12.00</td>\n",
       "      <td>Cash</td>\n",
       "      <td>In-store</td>\n",
       "      <td>2023-05-16</td>\n",
       "      <td>Tuesday</td>\n",
       "      <td>May</td>\n",
       "    </tr>\n",
       "    <tr>\n",
       "      <th>2</th>\n",
       "      <td>TXN_4271903</td>\n",
       "      <td>Cookie</td>\n",
       "      <td>4</td>\n",
       "      <td>1.00</td>\n",
       "      <td>8.92</td>\n",
       "      <td>Credit Card</td>\n",
       "      <td>In-store</td>\n",
       "      <td>2023-07-19</td>\n",
       "      <td>Wednesday</td>\n",
       "      <td>July</td>\n",
       "    </tr>\n",
       "    <tr>\n",
       "      <th>3</th>\n",
       "      <td>TXN_7034554</td>\n",
       "      <td>Salad</td>\n",
       "      <td>2</td>\n",
       "      <td>5.00</td>\n",
       "      <td>10.00</td>\n",
       "      <td>Digital Wallet</td>\n",
       "      <td>Takeaway</td>\n",
       "      <td>2023-04-27</td>\n",
       "      <td>Thursday</td>\n",
       "      <td>April</td>\n",
       "    </tr>\n",
       "    <tr>\n",
       "      <th>4</th>\n",
       "      <td>TXN_3160411</td>\n",
       "      <td>Coffee</td>\n",
       "      <td>2</td>\n",
       "      <td>2.00</td>\n",
       "      <td>4.00</td>\n",
       "      <td>Digital Wallet</td>\n",
       "      <td>In-store</td>\n",
       "      <td>2023-06-11</td>\n",
       "      <td>Sunday</td>\n",
       "      <td>June</td>\n",
       "    </tr>\n",
       "    <tr>\n",
       "      <th>...</th>\n",
       "      <td>...</td>\n",
       "      <td>...</td>\n",
       "      <td>...</td>\n",
       "      <td>...</td>\n",
       "      <td>...</td>\n",
       "      <td>...</td>\n",
       "      <td>...</td>\n",
       "      <td>...</td>\n",
       "      <td>...</td>\n",
       "      <td>...</td>\n",
       "    </tr>\n",
       "    <tr>\n",
       "      <th>9995</th>\n",
       "      <td>TXN_7672686</td>\n",
       "      <td>Coffee</td>\n",
       "      <td>2</td>\n",
       "      <td>2.00</td>\n",
       "      <td>4.00</td>\n",
       "      <td>Digital Wallet</td>\n",
       "      <td>Takeaway</td>\n",
       "      <td>2023-08-30</td>\n",
       "      <td>Wednesday</td>\n",
       "      <td>August</td>\n",
       "    </tr>\n",
       "    <tr>\n",
       "      <th>9996</th>\n",
       "      <td>TXN_9659401</td>\n",
       "      <td>Juice</td>\n",
       "      <td>3</td>\n",
       "      <td>2.95</td>\n",
       "      <td>3.00</td>\n",
       "      <td>Digital Wallet</td>\n",
       "      <td>Takeaway</td>\n",
       "      <td>2023-06-02</td>\n",
       "      <td>Friday</td>\n",
       "      <td>June</td>\n",
       "    </tr>\n",
       "    <tr>\n",
       "      <th>9997</th>\n",
       "      <td>TXN_5255387</td>\n",
       "      <td>Coffee</td>\n",
       "      <td>4</td>\n",
       "      <td>2.00</td>\n",
       "      <td>8.00</td>\n",
       "      <td>Digital Wallet</td>\n",
       "      <td>Takeaway</td>\n",
       "      <td>2023-03-02</td>\n",
       "      <td>Thursday</td>\n",
       "      <td>March</td>\n",
       "    </tr>\n",
       "    <tr>\n",
       "      <th>9998</th>\n",
       "      <td>TXN_7695629</td>\n",
       "      <td>Cookie</td>\n",
       "      <td>3</td>\n",
       "      <td>2.95</td>\n",
       "      <td>3.00</td>\n",
       "      <td>Digital Wallet</td>\n",
       "      <td>Takeaway</td>\n",
       "      <td>2023-12-02</td>\n",
       "      <td>Saturday</td>\n",
       "      <td>December</td>\n",
       "    </tr>\n",
       "    <tr>\n",
       "      <th>9999</th>\n",
       "      <td>TXN_6170729</td>\n",
       "      <td>Sandwich</td>\n",
       "      <td>3</td>\n",
       "      <td>4.00</td>\n",
       "      <td>12.00</td>\n",
       "      <td>Cash</td>\n",
       "      <td>In-store</td>\n",
       "      <td>2023-11-07</td>\n",
       "      <td>Tuesday</td>\n",
       "      <td>November</td>\n",
       "    </tr>\n",
       "  </tbody>\n",
       "</table>\n",
       "<p>10000 rows × 10 columns</p>\n",
       "</div>"
      ],
      "text/plain": [
       "     Transaction ID      Item  Quantity  Price Per Unit  Total Spent  \\\n",
       "0       TXN_1961373    Coffee         2            2.00         4.00   \n",
       "1       TXN_4977031      Cake         4            3.00        12.00   \n",
       "2       TXN_4271903    Cookie         4            1.00         8.92   \n",
       "3       TXN_7034554     Salad         2            5.00        10.00   \n",
       "4       TXN_3160411    Coffee         2            2.00         4.00   \n",
       "...             ...       ...       ...             ...          ...   \n",
       "9995    TXN_7672686    Coffee         2            2.00         4.00   \n",
       "9996    TXN_9659401     Juice         3            2.95         3.00   \n",
       "9997    TXN_5255387    Coffee         4            2.00         8.00   \n",
       "9998    TXN_7695629    Cookie         3            2.95         3.00   \n",
       "9999    TXN_6170729  Sandwich         3            4.00        12.00   \n",
       "\n",
       "      Payment Method  Location Transaction Date Day_of_Week Transaction Month  \n",
       "0        Credit Card  Takeaway       2023-09-08      Friday         September  \n",
       "1               Cash  In-store       2023-05-16     Tuesday               May  \n",
       "2        Credit Card  In-store       2023-07-19   Wednesday              July  \n",
       "3     Digital Wallet  Takeaway       2023-04-27    Thursday             April  \n",
       "4     Digital Wallet  In-store       2023-06-11      Sunday              June  \n",
       "...              ...       ...              ...         ...               ...  \n",
       "9995  Digital Wallet  Takeaway       2023-08-30   Wednesday            August  \n",
       "9996  Digital Wallet  Takeaway       2023-06-02      Friday              June  \n",
       "9997  Digital Wallet  Takeaway       2023-03-02    Thursday             March  \n",
       "9998  Digital Wallet  Takeaway       2023-12-02    Saturday          December  \n",
       "9999            Cash  In-store       2023-11-07     Tuesday          November  \n",
       "\n",
       "[10000 rows x 10 columns]"
      ]
     },
     "execution_count": 35,
     "metadata": {},
     "output_type": "execute_result"
    }
   ],
   "source": [
    "df['Transaction Month'] = df['Transaction Date'].dt.month_name()\n",
    "df"
   ]
  },
  {
   "cell_type": "code",
   "execution_count": 36,
   "id": "bcaf7985-15fa-4f51-9184-861f440c5a7c",
   "metadata": {},
   "outputs": [
    {
     "data": {
      "text/plain": [
       "(10000, 10)"
      ]
     },
     "execution_count": 36,
     "metadata": {},
     "output_type": "execute_result"
    }
   ],
   "source": [
    "df.shape"
   ]
  },
  {
   "cell_type": "markdown",
   "id": "2bcb5746-dfb1-489b-86eb-26464da7bf96",
   "metadata": {},
   "source": [
    "## Check for outliers"
   ]
  },
  {
   "cell_type": "code",
   "execution_count": 37,
   "id": "4fa3f70f-6431-4155-a568-734cdcbeeafe",
   "metadata": {},
   "outputs": [],
   "source": [
    "import matplotlib.pyplot as plt\n",
    "import seaborn as sns\n",
    "import warnings\n",
    "warnings.filterwarnings('ignore')"
   ]
  },
  {
   "cell_type": "code",
   "execution_count": 38,
   "id": "d817e920-51fe-4f73-bd4c-0d223baa2d48",
   "metadata": {},
   "outputs": [
    {
     "data": {
      "image/png": "[encoded data removed]",
      "text/plain": [
       "<Figure size 640x480 with 1 Axes>"
      ]
     },
     "metadata": {},
     "output_type": "display_data"
    }
   ],
   "source": [
    "plt.boxplot(df[['Quantity','Price Per Unit','Total Spent']])\n",
    "plt.xticks([1,2,3],['Quantity','Price Per Unit','Total Spent'])\n",
    "plt.ylabel('values')\n",
    "plt.title('Box plot of three columns')\n",
    "plt.show()"
   ]
  },
  {
   "cell_type": "markdown",
   "id": "e0e6ff5d-3b37-45f7-9879-1717afca6ab8",
   "metadata": {},
   "source": [
    "## Finding the unique values"
   ]
  },
  {
   "cell_type": "code",
   "execution_count": 39,
   "id": "afaeaa5f-a680-4084-bc70-dc86b622918a",
   "metadata": {},
   "outputs": [
    {
     "data": {
      "text/plain": [
       "array([ 4.  , 12.  ,  8.92, 10.  , 20.  ,  9.  , 16.  , 15.  , 25.  ,\n",
       "        8.  ,  5.  ,  3.  ,  6.  ,  2.  ,  1.  ,  7.5 ,  4.5 ,  1.5 ])"
      ]
     },
     "execution_count": 39,
     "metadata": {},
     "output_type": "execute_result"
    }
   ],
   "source": [
    "df['Total Spent'].unique()"
   ]
  },
  {
   "cell_type": "code",
   "execution_count": 40,
   "id": "26dc502a-2e12-4ccf-a12d-e8732439648a",
   "metadata": {},
   "outputs": [
    {
     "data": {
      "text/html": [
       "<div>\n",
       "<style scoped>\n",
       "    .dataframe tbody tr th:only-of-type {\n",
       "        vertical-align: middle;\n",
       "    }\n",
       "\n",
       "    .dataframe tbody tr th {\n",
       "        vertical-align: top;\n",
       "    }\n",
       "\n",
       "    .dataframe thead th {\n",
       "        text-align: right;\n",
       "    }\n",
       "</style>\n",
       "<table border=\"1\" class=\"dataframe\">\n",
       "  <thead>\n",
       "    <tr style=\"text-align: right;\">\n",
       "      <th></th>\n",
       "      <th>Transaction ID</th>\n",
       "      <th>Item</th>\n",
       "      <th>Quantity</th>\n",
       "      <th>Price Per Unit</th>\n",
       "      <th>Total Spent</th>\n",
       "      <th>Payment Method</th>\n",
       "      <th>Location</th>\n",
       "      <th>Transaction Date</th>\n",
       "      <th>Day_of_Week</th>\n",
       "      <th>Transaction Month</th>\n",
       "    </tr>\n",
       "  </thead>\n",
       "  <tbody>\n",
       "    <tr>\n",
       "      <th>0</th>\n",
       "      <td>TXN_1961373</td>\n",
       "      <td>Coffee</td>\n",
       "      <td>2</td>\n",
       "      <td>2.00</td>\n",
       "      <td>4.00</td>\n",
       "      <td>Credit Card</td>\n",
       "      <td>Takeaway</td>\n",
       "      <td>2023-09-08</td>\n",
       "      <td>Friday</td>\n",
       "      <td>September</td>\n",
       "    </tr>\n",
       "    <tr>\n",
       "      <th>1</th>\n",
       "      <td>TXN_4977031</td>\n",
       "      <td>Cake</td>\n",
       "      <td>4</td>\n",
       "      <td>3.00</td>\n",
       "      <td>12.00</td>\n",
       "      <td>Cash</td>\n",
       "      <td>In-store</td>\n",
       "      <td>2023-05-16</td>\n",
       "      <td>Tuesday</td>\n",
       "      <td>May</td>\n",
       "    </tr>\n",
       "    <tr>\n",
       "      <th>2</th>\n",
       "      <td>TXN_4271903</td>\n",
       "      <td>Cookie</td>\n",
       "      <td>4</td>\n",
       "      <td>1.00</td>\n",
       "      <td>8.92</td>\n",
       "      <td>Credit Card</td>\n",
       "      <td>In-store</td>\n",
       "      <td>2023-07-19</td>\n",
       "      <td>Wednesday</td>\n",
       "      <td>July</td>\n",
       "    </tr>\n",
       "    <tr>\n",
       "      <th>3</th>\n",
       "      <td>TXN_7034554</td>\n",
       "      <td>Salad</td>\n",
       "      <td>2</td>\n",
       "      <td>5.00</td>\n",
       "      <td>10.00</td>\n",
       "      <td>Digital Wallet</td>\n",
       "      <td>Takeaway</td>\n",
       "      <td>2023-04-27</td>\n",
       "      <td>Thursday</td>\n",
       "      <td>April</td>\n",
       "    </tr>\n",
       "    <tr>\n",
       "      <th>4</th>\n",
       "      <td>TXN_3160411</td>\n",
       "      <td>Coffee</td>\n",
       "      <td>2</td>\n",
       "      <td>2.00</td>\n",
       "      <td>4.00</td>\n",
       "      <td>Digital Wallet</td>\n",
       "      <td>In-store</td>\n",
       "      <td>2023-06-11</td>\n",
       "      <td>Sunday</td>\n",
       "      <td>June</td>\n",
       "    </tr>\n",
       "    <tr>\n",
       "      <th>...</th>\n",
       "      <td>...</td>\n",
       "      <td>...</td>\n",
       "      <td>...</td>\n",
       "      <td>...</td>\n",
       "      <td>...</td>\n",
       "      <td>...</td>\n",
       "      <td>...</td>\n",
       "      <td>...</td>\n",
       "      <td>...</td>\n",
       "      <td>...</td>\n",
       "    </tr>\n",
       "    <tr>\n",
       "      <th>9995</th>\n",
       "      <td>TXN_7672686</td>\n",
       "      <td>Coffee</td>\n",
       "      <td>2</td>\n",
       "      <td>2.00</td>\n",
       "      <td>4.00</td>\n",
       "      <td>Digital Wallet</td>\n",
       "      <td>Takeaway</td>\n",
       "      <td>2023-08-30</td>\n",
       "      <td>Wednesday</td>\n",
       "      <td>August</td>\n",
       "    </tr>\n",
       "    <tr>\n",
       "      <th>9996</th>\n",
       "      <td>TXN_9659401</td>\n",
       "      <td>Juice</td>\n",
       "      <td>3</td>\n",
       "      <td>2.95</td>\n",
       "      <td>3.00</td>\n",
       "      <td>Digital Wallet</td>\n",
       "      <td>Takeaway</td>\n",
       "      <td>2023-06-02</td>\n",
       "      <td>Friday</td>\n",
       "      <td>June</td>\n",
       "    </tr>\n",
       "    <tr>\n",
       "      <th>9997</th>\n",
       "      <td>TXN_5255387</td>\n",
       "      <td>Coffee</td>\n",
       "      <td>4</td>\n",
       "      <td>2.00</td>\n",
       "      <td>8.00</td>\n",
       "      <td>Digital Wallet</td>\n",
       "      <td>Takeaway</td>\n",
       "      <td>2023-03-02</td>\n",
       "      <td>Thursday</td>\n",
       "      <td>March</td>\n",
       "    </tr>\n",
       "    <tr>\n",
       "      <th>9998</th>\n",
       "      <td>TXN_7695629</td>\n",
       "      <td>Cookie</td>\n",
       "      <td>3</td>\n",
       "      <td>2.95</td>\n",
       "      <td>3.00</td>\n",
       "      <td>Digital Wallet</td>\n",
       "      <td>Takeaway</td>\n",
       "      <td>2023-12-02</td>\n",
       "      <td>Saturday</td>\n",
       "      <td>December</td>\n",
       "    </tr>\n",
       "    <tr>\n",
       "      <th>9999</th>\n",
       "      <td>TXN_6170729</td>\n",
       "      <td>Sandwich</td>\n",
       "      <td>3</td>\n",
       "      <td>4.00</td>\n",
       "      <td>12.00</td>\n",
       "      <td>Cash</td>\n",
       "      <td>In-store</td>\n",
       "      <td>2023-11-07</td>\n",
       "      <td>Tuesday</td>\n",
       "      <td>November</td>\n",
       "    </tr>\n",
       "  </tbody>\n",
       "</table>\n",
       "<p>10000 rows × 10 columns</p>\n",
       "</div>"
      ],
      "text/plain": [
       "     Transaction ID      Item  Quantity  Price Per Unit  Total Spent  \\\n",
       "0       TXN_1961373    Coffee         2            2.00         4.00   \n",
       "1       TXN_4977031      Cake         4            3.00        12.00   \n",
       "2       TXN_4271903    Cookie         4            1.00         8.92   \n",
       "3       TXN_7034554     Salad         2            5.00        10.00   \n",
       "4       TXN_3160411    Coffee         2            2.00         4.00   \n",
       "...             ...       ...       ...             ...          ...   \n",
       "9995    TXN_7672686    Coffee         2            2.00         4.00   \n",
       "9996    TXN_9659401     Juice         3            2.95         3.00   \n",
       "9997    TXN_5255387    Coffee         4            2.00         8.00   \n",
       "9998    TXN_7695629    Cookie         3            2.95         3.00   \n",
       "9999    TXN_6170729  Sandwich         3            4.00        12.00   \n",
       "\n",
       "      Payment Method  Location Transaction Date Day_of_Week Transaction Month  \n",
       "0        Credit Card  Takeaway       2023-09-08      Friday         September  \n",
       "1               Cash  In-store       2023-05-16     Tuesday               May  \n",
       "2        Credit Card  In-store       2023-07-19   Wednesday              July  \n",
       "3     Digital Wallet  Takeaway       2023-04-27    Thursday             April  \n",
       "4     Digital Wallet  In-store       2023-06-11      Sunday              June  \n",
       "...              ...       ...              ...         ...               ...  \n",
       "9995  Digital Wallet  Takeaway       2023-08-30   Wednesday            August  \n",
       "9996  Digital Wallet  Takeaway       2023-06-02      Friday              June  \n",
       "9997  Digital Wallet  Takeaway       2023-03-02    Thursday             March  \n",
       "9998  Digital Wallet  Takeaway       2023-12-02    Saturday          December  \n",
       "9999            Cash  In-store       2023-11-07     Tuesday          November  \n",
       "\n",
       "[10000 rows x 10 columns]"
      ]
     },
     "execution_count": 40,
     "metadata": {},
     "output_type": "execute_result"
    }
   ],
   "source": [
    "df"
   ]
  },
  {
   "cell_type": "code",
   "execution_count": 41,
   "id": "5f827e44-3a6b-4a43-bd19-3309880dd3a6",
   "metadata": {},
   "outputs": [],
   "source": [
    "df.to_csv(\"Cafe_Sales1.csv\")"
   ]
  },
  {
   "cell_type": "markdown",
   "id": "344cdc89-99ac-453f-b0ee-502b493f768d",
   "metadata": {},
   "source": [
    "## Exploratory Data Analysis (EDA) \n",
    "## Using Univariate Analysis, Bivariate Analysis and multivariate Analysis"
   ]
  },
  {
   "cell_type": "markdown",
   "id": "ba5464f3-fad5-48d4-b59e-be10e8e8380c",
   "metadata": {},
   "source": [
    "## Univariate Analysis\n",
    "- 1. First Numeric columns Analysis using Histogram Plot for describe.\n",
    "- 2. Second Categorical Columns Analysis using count plot for Value Count. "
   ]
  },
  {
   "cell_type": "code",
   "execution_count": 42,
   "id": "755ca0cc-cf84-42af-acd4-bd505c3795ae",
   "metadata": {},
   "outputs": [
    {
     "data": {
      "image/png": "[encoded data removed]",
      "text/plain": [
       "<Figure size 640x480 with 1 Axes>"
      ]
     },
     "metadata": {},
     "output_type": "display_data"
    },
    {
     "name": "stdout",
     "output_type": "stream",
     "text": [
      "count    10000.000000\n",
      "mean         3.027100\n",
      "std          1.384614\n",
      "min          1.000000\n",
      "25%          2.000000\n",
      "50%          3.000000\n",
      "75%          4.000000\n",
      "max          5.000000\n",
      "Name: Quantity, dtype: float64\n"
     ]
    }
   ],
   "source": [
    "# Histogram with KDE\n",
    "sns.histplot(df[\"Quantity\"], kde=True, bins=10)\n",
    "plt.title(\"Distribution of Quantity\")\n",
    "plt.show()\n",
    "print(df[\"Quantity\"].describe())\n"
   ]
  },
  {
   "cell_type": "markdown",
   "id": "43a67aa8-f619-47dd-8525-c4ca19523477",
   "metadata": {},
   "source": [
    "# Insights\n",
    "- Quantity 3 is the most frequently purchased (highest bar).\n",
    "- Quantity 1 and 4 are the least purchased compared to other quantities.\n",
    "- Quantities 2 and 5 are also quite popular, close to each other.\n",
    "- The distribution looks balanced overall, but with a clear peak at 3.\n",
    "- Customers rarely go below 1 or above 5, meaning purchases are mostly in small batches."
   ]
  },
  {
   "cell_type": "code",
   "execution_count": 55,
   "id": "86de7cb6-6a61-4643-9bff-e01781f77a5e",
   "metadata": {},
   "outputs": [
    {
     "data": {
      "image/png": "[encoded data removed]",
      "text/plain": [
       "<Figure size 640x480 with 1 Axes>"
      ]
     },
     "metadata": {},
     "output_type": "display_data"
    },
    {
     "name": "stdout",
     "output_type": "stream",
     "text": [
      "count    10000.000000\n",
      "mean         2.949985\n",
      "std          1.243910\n",
      "min          1.000000\n",
      "25%          2.000000\n",
      "50%          3.000000\n",
      "75%          4.000000\n",
      "max          5.000000\n",
      "Name: Price Per Unit, dtype: float64\n"
     ]
    }
   ],
   "source": [
    "sns.histplot(df[\"Price Per Unit\"], kde=True, bins=10)\n",
    "plt.title(\"Distribution of Price Per Unit\")\n",
    "plt.show()\n",
    "print(df[\"Price Per Unit\"].describe())"
   ]
  },
  {
   "cell_type": "markdown",
   "id": "2961fd57-7085-4667-bca9-e5ce2260bf64",
   "metadata": {},
   "source": [
    "# Insights\n",
    "- Price per unit = 3 and 4 are the most common (highest counts).\n",
    "- Price per unit = 1, 2, and 5 are less frequent but still significant.\n",
    "- Very few items fall around 2.5 (clear dip in the distribution).\n",
    "- The overall distribution is not uniform → some prices are much more popular.\n",
    "- Customers seem to prefer moderate prices (3–4) rather than very low (1) or very high (5)."
   ]
  },
  {
   "cell_type": "code",
   "execution_count": 56,
   "id": "f97b5a66-87c4-48cb-8494-05480b2431ee",
   "metadata": {},
   "outputs": [
    {
     "data": {
      "image/png": "[encoded data removed]",
      "text/plain": [
       "<Figure size 640x480 with 1 Axes>"
      ]
     },
     "metadata": {},
     "output_type": "display_data"
    },
    {
     "name": "stdout",
     "output_type": "stream",
     "text": [
      "count    10000.000000\n",
      "mean         8.924134\n",
      "std          5.857113\n",
      "min          1.000000\n",
      "25%          4.000000\n",
      "50%          8.000000\n",
      "75%         12.000000\n",
      "max         25.000000\n",
      "Name: Total Spent, dtype: float64\n"
     ]
    }
   ],
   "source": [
    "sns.histplot(df[\"Total Spent\"], kde=True, bins=20)\n",
    "plt.title(\"Distribution of Total Spent\")\n",
    "plt.show()\n",
    "print(df[\"Total Spent\"].describe())"
   ]
  },
  {
   "cell_type": "markdown",
   "id": "3ffa18c1-64a4-4eb7-b0bc-ed98ee6960b8",
   "metadata": {},
   "source": [
    "# Insights\n",
    "- Most people spend between ₹0–₹5.\n",
    "- Fewer people spend more than ₹5.\n",
    "- There are small peaks around ₹10, ₹15, and ₹20.\n",
    "- Very few people spend above ₹20."
   ]
  },
  {
   "cell_type": "code",
   "execution_count": 63,
   "id": "95798ccc-2a13-49cc-81f4-2b5e50f9eb87",
   "metadata": {},
   "outputs": [
    {
     "data": {
      "image/png": "[encoded data removed]",
      "text/plain": [
       "<Figure size 800x400 with 1 Axes>"
      ]
     },
     "metadata": {},
     "output_type": "display_data"
    },
    {
     "name": "stdout",
     "output_type": "stream",
     "text": [
      "Item\n",
      "Juice       2140\n",
      "Coffee      1165\n",
      "Salad       1148\n",
      "Cake        1139\n",
      "Sandwich    1131\n",
      "Smoothie    1096\n",
      "Cookie      1092\n",
      "Tea         1089\n",
      "Name: count, dtype: int64\n"
     ]
    }
   ],
   "source": [
    "plt.figure(figsize=(8,4))\n",
    "sns.countplot(x=\"Item\", data=df, order=df[\"Item\"].value_counts().index,palette=\"Set2\")\n",
    "plt.title(\"Count of Items Sold\")\n",
    "plt.show()\n",
    "print(df[\"Item\"].value_counts())"
   ]
  },
  {
   "cell_type": "markdown",
   "id": "413e1819-90c0-4e7d-b212-24506e214908",
   "metadata": {},
   "source": [
    "# Insights\n",
    "- Juice is the most sold item.\n",
    "- Coffee is the second most popular.\n",
    "- Salad, Cake, and Sandwich are sold in similar amounts.\n",
    "- Smoothie, Cookie, and Tea are the least sold."
   ]
  },
  {
   "cell_type": "code",
   "execution_count": 64,
   "id": "a84a221d-9791-4898-a9e5-8ea0b27a45b0",
   "metadata": {},
   "outputs": [
    {
     "data": {
      "image/png": "[encoded data removed]",
      "text/plain": [
       "<Figure size 800x400 with 1 Axes>"
      ]
     },
     "metadata": {},
     "output_type": "display_data"
    },
    {
     "name": "stdout",
     "output_type": "stream",
     "text": [
      "Payment Method\n",
      "Digital Wallet    54.69\n",
      "Credit Card       22.73\n",
      "Cash              22.58\n",
      "Name: proportion, dtype: float64\n"
     ]
    }
   ],
   "source": [
    "plt.figure(figsize=(8,4))\n",
    "sns.countplot(x=\"Payment Method\", data=df, order=df[\"Payment Method\"].value_counts().index,palette=\"Set2\")\n",
    "plt.title(\"Count of Payment Methods\")\n",
    "plt.show()\n",
    "print(df[\"Payment Method\"].value_counts(normalize=True)*100)"
   ]
  },
  {
   "cell_type": "markdown",
   "id": "9e5b4d1f-f09f-4839-a496-3fde8e551149",
   "metadata": {},
   "source": [
    "# Insights\n",
    "- Digital Wallet is used the most.\n",
    "- Credit Card is used less than Digital Wallet.\n",
    "- Cash is the least used."
   ]
  },
  {
   "cell_type": "code",
   "execution_count": 65,
   "id": "4057e71a-8cb0-4293-92aa-9bb1ec1ad111",
   "metadata": {},
   "outputs": [
    {
     "data": {
      "image/png": "[encoded data removed]",
      "text/plain": [
       "<Figure size 800x400 with 1 Axes>"
      ]
     },
     "metadata": {},
     "output_type": "display_data"
    },
    {
     "name": "stdout",
     "output_type": "stream",
     "text": [
      "Location\n",
      "Takeaway    6983\n",
      "In-store    3017\n",
      "Name: count, dtype: int64\n"
     ]
    }
   ],
   "source": [
    "plt.figure(figsize=(8,4))\n",
    "sns.countplot(x=\"Location\", data=df,palette='Set2')\n",
    "plt.title(\"Transaction by Location\")\n",
    "plt.show()\n",
    "print(df[\"Location\"].value_counts())"
   ]
  },
  {
   "cell_type": "markdown",
   "id": "eaa4c850-a13a-45b3-8f41-3256fe546b26",
   "metadata": {},
   "source": [
    "# Insights\n",
    "- Takeaway has more transactions than In-store.\n",
    "- In-store transactions are about half of Takeaway."
   ]
  },
  {
   "cell_type": "code",
   "execution_count": 67,
   "id": "fe3ee646-5e00-422a-aace-6cbdd8ff127f",
   "metadata": {},
   "outputs": [
    {
     "data": {
      "image/png": "[encoded data removed]",
      "text/plain": [
       "<Figure size 800x400 with 1 Axes>"
      ]
     },
     "metadata": {},
     "output_type": "display_data"
    }
   ],
   "source": [
    "plt.figure(figsize=(8,4))\n",
    "sns.countplot(x=\"Day_of_Week\", data=df, order=[\"Monday\",\"Tuesday\",\"Wednesday\",\"Thursday\",\"Friday\",\"Saturday\",\"Sunday\"],palette='Set3')\n",
    "plt.title(\"Transactions by Day of Week\")\n",
    "plt.show()"
   ]
  },
  {
   "cell_type": "markdown",
   "id": "c7349783-f9e0-4dfb-b18f-80102f7f06e0",
   "metadata": {},
   "source": [
    "# Insights\n",
    "- All days have similar number of transactions.\n",
    "- No big difference between weekdays and weekends.\n",
    "- Business is steady every day."
   ]
  },
  {
   "cell_type": "code",
   "execution_count": 69,
   "id": "a5fafe2c-2245-4768-bc02-2c5755af13ab",
   "metadata": {},
   "outputs": [
    {
     "data": {
      "image/png": "[encoded data removed]",
      "text/plain": [
       "<Figure size 800x400 with 1 Axes>"
      ]
     },
     "metadata": {},
     "output_type": "display_data"
    }
   ],
   "source": [
    "plt.figure(figsize=(8,4))\n",
    "sns.countplot(x=\"Transaction Month\", data=df, order=[\"January\",\"February\",\"March\",\"April\",\"May\",\"June\",\"July\",\"August\",\"September\",\"October\",\"November\",\"December\"],palette='Set3')\n",
    "plt.title(\"Transactions by Month\")\n",
    "plt.xticks(rotation=45)\n",
    "plt.show()\n"
   ]
  },
  {
   "cell_type": "markdown",
   "id": "3017c6bf-a091-4a4d-ba43-1485d95ae1ac",
   "metadata": {},
   "source": [
    "# Insights\n",
    "- October has the most transactions.\n",
    "- February has the fewest.\n",
    "- Other months are mostly similar."
   ]
  },
  {
   "cell_type": "markdown",
   "id": "d3cf6463-742a-4012-8604-d80baab53085",
   "metadata": {},
   "source": [
    "## Bivariate Analysis"
   ]
  },
  {
   "cell_type": "code",
   "execution_count": 67,
   "id": "1360ba73-72bf-4778-a395-9ef7e91dddb3",
   "metadata": {},
   "outputs": [
    {
     "data": {
      "text/plain": [
       "Item\n",
       "Cake         9.120211\n",
       "Coffee       6.206009\n",
       "Cookie       3.276960\n",
       "Juice        8.744168\n",
       "Salad       11.343937\n",
       "Sandwich    11.975880\n",
       "Smoothie    12.042190\n",
       "Tea          4.741653\n",
       "Name: Total Spent, dtype: float64"
      ]
     },
     "execution_count": 67,
     "metadata": {},
     "output_type": "execute_result"
    }
   ],
   "source": [
    "##Bivariate Analysis\n",
    "df.groupby('Item')['Total Spent'].mean()"
   ]
  },
  {
   "cell_type": "code",
   "execution_count": 68,
   "id": "39fbe6e5-654f-4bf4-9627-4f8df15b390f",
   "metadata": {},
   "outputs": [
    {
     "data": {
      "image/png": "[encoded data removed]",
      "text/plain": [
       "<Figure size 640x480 with 1 Axes>"
      ]
     },
     "metadata": {},
     "output_type": "display_data"
    }
   ],
   "source": [
    "sns.barplot(x='Item', y='Total Spent', data=df,palette='viridis')\n",
    "plt.title('Total Spent by Item')\n",
    "plt.show()"
   ]
  },
  {
   "cell_type": "markdown",
   "id": "67c68094-6270-4a52-99cd-e98793def301",
   "metadata": {},
   "source": [
    "# Insights\n",
    "- Smoothie and Sandwich have the highest spending.\n",
    "- Salad and Cake also have good spending.\n",
    "- Coffee and Juice are in the middle.\n",
    "- Cookie and Tea have the lowest spending.\n",
    "\n"
   ]
  },
  {
   "cell_type": "code",
   "execution_count": 70,
   "id": "3d8b2fa4-1ab4-47f7-a9e6-c1b29ba13492",
   "metadata": {},
   "outputs": [
    {
     "data": {
      "image/png": "[encoded data removed]",
      "text/plain": [
       "<Figure size 640x480 with 1 Axes>"
      ]
     },
     "metadata": {},
     "output_type": "display_data"
    }
   ],
   "source": [
    "ct = pd.crosstab(df['Payment Method'], df['Location'])\n",
    "ct.plot(kind='bar')\n",
    "plt.title('Payment Method by Location')\n",
    "plt.ylabel('Count')\n",
    "plt.xlabel('Payment Method')\n",
    "plt.legend(title='Location')\n",
    "plt.tight_layout()\n",
    "plt.show()"
   ]
  },
  {
   "cell_type": "markdown",
   "id": "8c60dde4-0979-4223-a7b3-5bc82f4d4629",
   "metadata": {},
   "source": [
    "# Insights\n",
    "- Takeaway uses more Cash and Credit Card than In-store.\n",
    "- Digital Wallet is used the most, especially in Takeaway.\n",
    "- In-store has fewer payments for all methods.\n",
    "\n"
   ]
  },
  {
   "cell_type": "code",
   "execution_count": 72,
   "id": "df2ab711-09c2-4363-8755-6bea56f80977",
   "metadata": {},
   "outputs": [
    {
     "data": {
      "image/png": "[encoded data removed]",
      "text/plain": [
       "<Figure size 640x480 with 1 Axes>"
      ]
     },
     "metadata": {},
     "output_type": "display_data"
    }
   ],
   "source": [
    "#Numerical vs Numerical\n",
    "sns.scatterplot(data=df, x='Quantity', y='Total Spent', hue='Item')\n",
    "plt.title('Quantity vs Total Spent by Item')\n",
    "plt.show()"
   ]
  },
  {
   "cell_type": "markdown",
   "id": "fa68b09a-94a6-454f-a005-361508427535",
   "metadata": {},
   "source": [
    "# Insights\n",
    "- More quantity usually means more total spent.\n",
    "- Juice and Sandwich often lead to high spending.\n",
    "- Cookie and Tea have low spending even at higher quantities.\n",
    "- Salad and Cake show medium spending.\n",
    "\n"
   ]
  },
  {
   "cell_type": "code",
   "execution_count": 43,
   "id": "05aac03b-515d-4248-a66e-90566cab8f0e",
   "metadata": {},
   "outputs": [
    {
     "data": {
      "image/png": "[encoded data removed]",
      "text/plain": [
       "<Figure size 600x400 with 1 Axes>"
      ]
     },
     "metadata": {},
     "output_type": "display_data"
    }
   ],
   "source": [
    "# Categorical vs Numerical\n",
    "plt.figure(figsize=(6,4))\n",
    "sns.boxplot(x=\"Payment Method\", y=\"Total Spent\", data=df)\n",
    "plt.title(\"Payment Method vs Total Spent\")\n",
    "plt.show()"
   ]
  },
  {
   "cell_type": "markdown",
   "id": "452231ff-ca15-45ad-8c10-e1b984dd0131",
   "metadata": {},
   "source": [
    "# Insights\n",
    "- Credit Card, Cash, and Digital Wallet all have similar spending.\n",
    "- Most people spend between ₹5 and ₹15.\n",
    "- A few people spend more than ₹20 (outliers)."
   ]
  },
  {
   "cell_type": "code",
   "execution_count": 44,
   "id": "ed40a9ad-14da-427e-9269-7349657a68dc",
   "metadata": {},
   "outputs": [
    {
     "data": {
      "image/png": "[encoded data removed]",
      "text/plain": [
       "<Figure size 600x400 with 2 Axes>"
      ]
     },
     "metadata": {},
     "output_type": "display_data"
    }
   ],
   "source": [
    "# Correlation heatmap\n",
    "plt.figure(figsize=(6,4))\n",
    "sns.heatmap(df[[\"Quantity\", \"Price Per Unit\", \"Total Spent\"]].corr(), annot=True, cmap=\"coolwarm\")\n",
    "plt.title(\"Correlation Heatmap\")\n",
    "plt.show()"
   ]
  },
  {
   "cell_type": "markdown",
   "id": "a04f8201-8380-479c-8a02-04ec3146f4ee",
   "metadata": {},
   "source": [
    "# Insights\n",
    "-  More quantity → more total spent (strong link).\n",
    "- Higher price per unit → more total spent (strong link).\n",
    "- Quantity and price per unit are not related.\n",
    "\n"
   ]
  },
  {
   "cell_type": "markdown",
   "id": "b5516c89-d2f4-4de9-b328-a0e42da26c92",
   "metadata": {},
   "source": [
    "# Multivariate Analysis"
   ]
  },
  {
   "cell_type": "code",
   "execution_count": 45,
   "id": "7de1f006-6f88-4804-bfb2-87b6e6d76baf",
   "metadata": {},
   "outputs": [
    {
     "data": {
      "image/png": "[encoded data removed]",
      "text/plain": [
       "<Figure size 750x750 with 12 Axes>"
      ]
     },
     "metadata": {},
     "output_type": "display_data"
    }
   ],
   "source": [
    "# Pairplot for multiple variables\n",
    "sns.pairplot(df[[\"Quantity\", \"Price Per Unit\", \"Total Spent\"]], diag_kind=\"kde\")\n",
    "plt.show()"
   ]
  },
  {
   "cell_type": "markdown",
   "id": "e7687c7a-9628-4bbb-85de-c2e82ea3d05f",
   "metadata": {},
   "source": [
    "# Insights\n",
    "- Quantity and Price Per Unit have no clear pattern.\n",
    "- Total Spent increases when Quantity or Price Per Unit goes up.\n",
    "- Total Spent shows a clear spread—some people spend a lot, some very little.\n",
    "- Quantity and Price Per Unit have their own peaks (popular values).\n",
    "\n"
   ]
  },
  {
   "cell_type": "code",
   "execution_count": 46,
   "id": "3a0ad8dc-c63e-4e30-b691-b944dcbf831d",
   "metadata": {},
   "outputs": [
    {
     "data": {
      "image/png": "[encoded data removed]",
      "text/plain": [
       "<Figure size 800x500 with 1 Axes>"
      ]
     },
     "metadata": {},
     "output_type": "display_data"
    }
   ],
   "source": [
    "# Grouping analysis\n",
    "grouped = df.groupby([\"Item\", \"Payment Method\"])[\"Total Spent\"].mean().reset_index()\n",
    "plt.figure(figsize=(8,5))\n",
    "sns.barplot(x=\"Item\", y=\"Total Spent\", hue=\"Payment Method\", data=grouped)\n",
    "plt.title(\"Average Spend by Item and Payment Method\")\n",
    "plt.show()"
   ]
  },
  {
   "cell_type": "markdown",
   "id": "f5072e3d-d0d0-4cec-a7e6-d710ea7369be",
   "metadata": {},
   "source": [
    "# Insights\n",
    "-  Salad has the highest average spend.\n",
    "- Cookie and Tea have the lowest spend.\n",
    "- Cake, Sandwich, and Smoothie also have high spend.\n",
    "- All payment methods show similar spending for most items.\n",
    "- Cash is slightly higher for some items like Juice and Smoothie.\n",
    "\n"
   ]
  },
  {
   "cell_type": "code",
   "execution_count": 47,
   "id": "d19088f7-f291-4ffd-9a72-60118ca9230e",
   "metadata": {},
   "outputs": [
    {
     "data": {
      "image/png": "[encoded data removed]",
      "text/plain": [
       "<Figure size 800x500 with 1 Axes>"
      ]
     },
     "metadata": {},
     "output_type": "display_data"
    }
   ],
   "source": [
    "# Location + Month analysis\n",
    "plt.figure(figsize=(8,5))\n",
    "sns.barplot(x=\"Transaction Month\", y=\"Total Spent\", hue=\"Location\", data=df)\n",
    "plt.title(\"Monthly Spend by Location\")\n",
    "plt.xticks(rotation=45)\n",
    "plt.show()"
   ]
  },
  {
   "cell_type": "markdown",
   "id": "e83d3ff5-a435-4368-b65a-defbff05b8ec",
   "metadata": {},
   "source": [
    "# Insights\n",
    "- Takeaway spending is slightly higher than In-store in most months.\n",
    "- Spending is steady across all months.\n",
    "- Both locations show similar patterns every month.\n",
    "\n",
    "\n"
   ]
  },
  {
   "cell_type": "markdown",
   "id": "5070f82e-f37c-4665-8452-55849c19d140",
   "metadata": {},
   "source": [
    "# Hypothesis Testing"
   ]
  },
  {
   "cell_type": "code",
   "execution_count": 43,
   "id": "411180aa-d4ee-4abb-8a84-167b0f079d95",
   "metadata": {},
   "outputs": [
    {
     "name": "stdout",
     "output_type": "stream",
     "text": [
      "Hypothesis Test: Average Spending vs ₹200\n",
      "Null Hypothesis (H₀): Average spending = ₹200\n",
      "Alternative Hypothesis (H₁): Average spending ≠ ₹200\n",
      "Test Statistic = -3262.29\n",
      "p-value = 0.0000\n",
      "Conclusion: Reject the null hypothesis. Average spending is significantly different from ₹200.\n"
     ]
    }
   ],
   "source": [
    "#One-sample t-test\n",
    "#Check if the average spending is significantly different from a target value (say ₹200).\n",
    "from scipy.stats import ttest_1samp\n",
    "stat, p = ttest_1samp(df[\"Total Spent\"], 200)\n",
    "# Print hypotheses\n",
    "print(\"Hypothesis Test: Average Spending vs ₹200\")\n",
    "print(\"Null Hypothesis (H₀): Average spending = ₹200\")\n",
    "print(\"Alternative Hypothesis (H₁): Average spending ≠ ₹200\")\n",
    "# Print test results\n",
    "print(f\"Test Statistic = {stat:.2f}\")\n",
    "print(f\"p-value = {p:.4f}\")\n",
    "# Print conclusion\n",
    "if p < 0.05:\n",
    "    print(\"Conclusion: Reject the null hypothesis. Average spending is significantly different from ₹200.\")\n",
    "else:\n",
    "    print(\"Conclusion: Fail to reject the null hypothesis. No significant difference from ₹200.\")"
   ]
  },
  {
   "cell_type": "markdown",
   "id": "615a4540-c9af-40d7-8df6-c55adc4f5938",
   "metadata": {},
   "source": [
    "# Insights\n",
    "- Average spending is not ₹200 — it's significantly different.\n",
    "- The test statistic is very negative (-3262.29), suggesting actual spending is much lower than ₹200.\n",
    "- p-value = 0.0000 → Strong evidence against the ₹200 assumption."
   ]
  },
  {
   "cell_type": "code",
   "execution_count": 44,
   "id": "55284b3f-5746-4b64-9567-ce0bf433dfeb",
   "metadata": {},
   "outputs": [
    {
     "name": "stdout",
     "output_type": "stream",
     "text": [
      "Hypothesis Test: In-store vs Takeaway Spending\n",
      "Null Hypothesis (H₀): Mean spending is the same for In-store and Takeaway customers\n",
      "Alternative Hypothesis (H₁): Mean spending is different between In-store and Takeaway customers\n",
      "Test Statistic = 1.12\n",
      "p-value = 0.2629\n",
      "Conclusion: Fail to reject the null hypothesis. No significant difference in spending between groups.\n"
     ]
    }
   ],
   "source": [
    "#Two-sample t-test (In-store vs Takeaway)\n",
    "#Compare mean spending between two groups.\n",
    "from scipy.stats import ttest_ind\n",
    "instore = df[df[\"Location\"] == \"In-store\"][\"Total Spent\"]\n",
    "takeaway = df[df[\"Location\"] == \"Takeaway\"][\"Total Spent\"]\n",
    "stat, p = ttest_ind(instore, takeaway, equal_var=False)  # Welch's t-test\n",
    "# Print hypotheses\n",
    "print(\"Hypothesis Test: In-store vs Takeaway Spending\")\n",
    "print(\"Null Hypothesis (H₀): Mean spending is the same for In-store and Takeaway customers\")\n",
    "print(\"Alternative Hypothesis (H₁): Mean spending is different between In-store and Takeaway customers\")\n",
    "# Print test results\n",
    "print(f\"Test Statistic = {stat:.2f}\")\n",
    "print(f\"p-value = {p:.4f}\")\n",
    "# Print conclusion\n",
    "if p < 0.05:\n",
    "    print(\"Conclusion: Reject the null hypothesis. Spending differs between In-store and Takeaway customers.\")\n",
    "else:\n",
    "    print(\"Conclusion: Fail to reject the null hypothesis. No significant difference in spending between groups.\")"
   ]
  },
  {
   "cell_type": "markdown",
   "id": "fd79a6dd-a4cc-47c2-9268-3121a02f26cc",
   "metadata": {},
   "source": [
    "# Insights\n",
    "- No significant difference in average spending between In-store and Takeaway customers.\n",
    "- Test Statistic = 1.12, p-value = 0.2629 → well above the 0.05 threshold.\n",
    "- This means the observed difference could easily be due to random variation."
   ]
  },
  {
   "cell_type": "code",
   "execution_count": 46,
   "id": "de30b7fe-4ced-4215-bc74-4f9b3456c2ea",
   "metadata": {},
   "outputs": [
    {
     "name": "stdout",
     "output_type": "stream",
     "text": [
      "Hypothesis Test: Payment Method vs Location\n",
      "Null Hypothesis (H₀): Payment Method and Location are independent (no relationship)\n",
      "Alternative Hypothesis (H₁): Payment Method and Location are dependent (there is a relationship)\n",
      "Chi-Square Statistic = 1.18\n",
      "p-value = 0.5555\n",
      "Conclusion: Fail to reject the null hypothesis. No significant relationship between Payment Method and Location.\n"
     ]
    }
   ],
   "source": [
    "#Chi-Square Test (Payment Method vs Location)\n",
    "#See if there’s a relationship between Payment Method and Location.\n",
    "from scipy.stats import chi2_contingency\n",
    "import pandas as pd\n",
    "# Chi-Square Test (Payment Method vs Location)\n",
    "contingency = pd.crosstab(df[\"Payment Method\"], df[\"Location\"])\n",
    "chi2, p, dof, expected = chi2_contingency(contingency)\n",
    "# Print hypotheses\n",
    "print(\"Hypothesis Test: Payment Method vs Location\")\n",
    "print(\"Null Hypothesis (H₀): Payment Method and Location are independent (no relationship)\")\n",
    "print(\"Alternative Hypothesis (H₁): Payment Method and Location are dependent (there is a relationship)\")\n",
    "# Print test results\n",
    "print(f\"Chi-Square Statistic = {chi2:.2f}\")\n",
    "print(f\"p-value = {p:.4f}\")\n",
    "# Print conclusion\n",
    "if p < 0.05:\n",
    "    print(\"Conclusion: Reject the null hypothesis. There is a significant relationship between Payment Method and Location.\")\n",
    "else:\n",
    "    print(\"Conclusion: Fail to reject the null hypothesis. No significant relationship between Payment Method and Location.\")"
   ]
  },
  {
   "cell_type": "markdown",
   "id": "6272a12d-ac70-4628-bf75-db334142fe0b",
   "metadata": {},
   "source": [
    "# Insights\n",
    "- No significant relationship between Payment Method and Location.\n",
    "- Chi-Square = 1.18, p-value = 0.5555 → way above the 0.05 threshold.\n",
    "- This means customers choose payment methods similarly, whether they shop In-store or Takeaway."
   ]
  },
  {
   "cell_type": "code",
   "execution_count": null,
   "id": "d90e5aa2-87cf-404c-a214-0d8bf4b78030",
   "metadata": {},
   "outputs": [],
   "source": []
  }
 ],
 "metadata": {
  "kernelspec": {
   "display_name": "Python 3 (ipykernel)",
   "language": "python",
   "name": "python3"
  },
  "language_info": {
   "codemirror_mode": {
    "name": "ipython",
    "version": 3
   },
   "file_extension": ".py",
   "mimetype": "text/x-python",
   "name": "python",
   "nbconvert_exporter": "python",
   "pygments_lexer": "ipython3",
   "version": "3.13.5"
  }
 },
 "nbformat": 4,
 "nbformat_minor": 5
}
